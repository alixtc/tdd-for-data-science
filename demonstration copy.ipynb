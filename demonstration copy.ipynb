{
 "cells": [
  {
   "cell_type": "code",
   "execution_count": null,
   "id": "57696798",
   "metadata": {},
   "outputs": [],
   "source": [
    "import pandas as pd\n",
    "import pelage as plg\n",
    "import polars as pl\n",
    "\n",
    "from load_data import data_loader\n",
    "\n",
    "emissions = data_loader()"
   ]
  },
  {
   "cell_type": "code",
   "execution_count": null,
   "id": "117f5150",
   "metadata": {},
   "outputs": [],
   "source": [
    "emissions_pandas = (\n",
    "    emissions.filter(pl.col.electric_range_km.is_not_null())\n",
    "    .filter(pl.col.country.is_in([\"RO\", \"LT\"]).not_())\n",
    "    .collect()\n",
    "    .to_pandas()\n",
    ")"
   ]
  },
  {
   "cell_type": "code",
   "execution_count": null,
   "id": "3309fcbe",
   "metadata": {},
   "outputs": [],
   "source": [
    "df = emissions_pandas\n",
    "df = df.dropna(subset=[\"fuel_consumption\"])\n",
    "df.drop([\"vehicle_family_number\"], axis=1, inplace=True)\n",
    "\n",
    "df[df[\"fuel_type\"] == \"PETROL\"][\"fuel_type\"] = \"petrol\"\n",
    "df[\"fuel_consumption_per_100km\"] = df[\"fuel_consumption\"] * 100\n",
    "\n",
    "grouped = []\n",
    "for manufacturer in df[\"manufacturer_name\"].unique():\n",
    "    manuf_df = df[df[\"manufacturer_name\"] == manufacturer]\n",
    "    for year in df[\"year\"].unique():\n",
    "        subset_df = manuf_df[(manuf_df[\"year\"] == year)]\n",
    "        result = {\"manufacturer_name\": manufacturer, \"year\": year,\n",
    "            \"mean_fuel_consumption\": subset_df[\"fuel_consumption_per_100km\"].mean(),\n",
    "            \"mean_electric_range\": subset_df[\"electric_range_km\"].mean(), \"vehicle_count\": subset_df[\"vehicle_id\"].nunique(),\n",
    "        }\n",
    "        grouped.append(result)\n",
    "\n",
    "grouped = pd.DataFrame(grouped)\n",
    "grouped = grouped.dropna()\n",
    "grouped = grouped.sort_values([\"mean_fuel_consumption\", \"year\"], ascending=False)\n",
    "grouped = grouped[grouped[\"vehicle_count\"] >= 100]\n",
    "grouped = grouped.reset_index(drop=True)\n"
   ]
  },
  {
   "cell_type": "code",
   "execution_count": null,
   "id": "f9332ca9",
   "metadata": {},
   "outputs": [],
   "source": [
    "main_yearly_emissions_per_manufacturer = (\n",
    "    emissions_pandas.dropna(subset=[\"fuel_consumption\"])\n",
    "    .drop([\"vehicle_family_number\"], axis=1)\n",
    "    .assign(\n",
    "        fuel_type=lambda df: df[\"fuel_type\"].replace({\"PETROL\": \"petrol\"}),\n",
    "        fuel_consumption_per_100km=lambda df: df[\"fuel_consumption\"] * 100,\n",
    "    )\n",
    "    .groupby([\"manufacturer_name\", \"year\"])\n",
    "    .agg(\n",
    "        mean_fuel_consumption=(\"fuel_consumption_per_100km\", \"mean\"),\n",
    "        mean_electric_range=(\"electric_range_km\", \"mean\"),\n",
    "        vehicle_count=(\"vehicle_id\", \"nunique\"),\n",
    "    )\n",
    "    .reset_index()\n",
    "    .sort_values([\"mean_fuel_consumption\", \"year\"], ascending=False)\n",
    "    .loc[lambda df: df[\"vehicle_count\"] >= 100]\n",
    "    .reset_index(drop=True)\n",
    ")"
   ]
  },
  {
   "cell_type": "code",
   "execution_count": null,
   "id": "f4c01073",
   "metadata": {},
   "outputs": [],
   "source": [
    "main_yearly_emissions_per_manufacturer = (\n",
    "    pl.DataFrame(emissions_pandas)\n",
    "    .drop_nulls(subset=[\"fuel_consumption\"])\n",
    "    .drop([\"vehicle_family_number\"])\n",
    "    .with_columns(\n",
    "        fuel_type=pl.col.fuel_type.replace({\"PETROL\": \"petrol\"}),\n",
    "        fuel_consumption_per_100km=pl.col.fuel_consumption * 100,\n",
    "    )\n",
    "    .group_by(\"manufacturer_name\", \"year\")\n",
    "    .agg(\n",
    "        mean_fuel_consumption=pl.col.fuel_consumption_per_100km.mean(),\n",
    "        mean_electric_range=pl.col.electric_range_km.mean(),\n",
    "        vehicle_count=pl.col.vehicle_id.n_unique().cast(pl.Int64),\n",
    "    )\n",
    "    .sort([\"mean_fuel_consumption\", \"year\"], descending=True)\n",
    "    .filter(pl.col.vehicle_count >= 100)\n",
    ")"
   ]
  },
  {
   "cell_type": "code",
   "execution_count": null,
   "id": "7fc7825d",
   "metadata": {},
   "outputs": [],
   "source": []
  },
  {
   "cell_type": "code",
   "execution_count": null,
   "id": "b4fbb6c4",
   "metadata": {},
   "outputs": [],
   "source": []
  }
 ],
 "metadata": {
  "kernelspec": {
   "display_name": ".venv",
   "language": "python",
   "name": "python3"
  },
  "language_info": {
   "codemirror_mode": {
    "name": "ipython",
    "version": 3
   },
   "file_extension": ".py",
   "mimetype": "text/x-python",
   "name": "python",
   "nbconvert_exporter": "python",
   "pygments_lexer": "ipython3",
   "version": "3.11.12"
  }
 },
 "nbformat": 4,
 "nbformat_minor": 5
}
