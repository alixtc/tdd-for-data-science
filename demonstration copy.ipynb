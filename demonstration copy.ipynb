{
 "cells": [
  {
   "cell_type": "code",
   "execution_count": null,
   "id": "57696798",
   "metadata": {},
   "outputs": [],
   "source": [
    "import pandas as pd\n",
    "import pelage as plg\n",
    "import polars as pl\n",
    "\n",
    "from load_data import data_loader\n",
    "\n",
    "emissions = data_loader()"
   ]
  },
  {
   "cell_type": "code",
   "execution_count": null,
   "id": "117f5150",
   "metadata": {},
   "outputs": [],
   "source": [
    "emissions_pandas = (\n",
    "    emissions.filter(pl.col.electric_range_km.is_not_null()).collect().to_pandas()\n",
    ")"
   ]
  },
  {
   "cell_type": "code",
   "execution_count": null,
   "id": "3309fcbe",
   "metadata": {},
   "outputs": [],
   "source": [
    "df = emissions_pandas\n",
    "df = df.dropna(subset=[\"fuel_consumption\"])\n",
    "df.drop([\"vehicle_family_number\"], axis=1, inplace=True)\n",
    "\n",
    "df[df[\"fuel_type\"] == \"PETROL\"][\"fuel_type\"] = \"petrol\"\n",
    "df[\"fuel_consumption_per_100km\"] = df[\"fuel_consumption\"] * 100\n",
    "\n",
    "grouped = []\n",
    "for manufacturer in df[\"manufacturer_name\"].unique():\n",
    "    manuf_df = df[df[\"manufacturer_name\"] == manufacturer]\n",
    "    for year in df[\"year\"].unique():\n",
    "        subset_df = manuf_df[(manuf_df[\"year\"] == year)]\n",
    "        result = {\n",
    "            \"manufacturer_name\": manufacturer,\n",
    "            \"year\": year,\n",
    "            \"mean_fuel_consumption\": subset_df[\"fuel_consumption_per_100km\"].mean(),\n",
    "            \"mean_electric_range\": subset_df[\"electric_range_km\"].mean(),\n",
    "            \"vehicle_count\": subset_df[\"vehicle_id\"].nunique(),\n",
    "        }\n",
    "        grouped.append(result)\n",
    "\n",
    "grouped = pd.DataFrame(grouped)\n",
    "grouped = grouped.dropna()\n",
    "grouped = grouped.sort_values([\"mean_fuel_consumption\", \"year\"], ascending=False)\n",
    "grouped = grouped[grouped[\"vehicle_count\"] >= 100]\n",
    "grouped = grouped.reset_index(drop=True)"
   ]
  },
  {
   "cell_type": "code",
   "execution_count": null,
   "id": "f9332ca9",
   "metadata": {},
   "outputs": [],
   "source": [
    "main_yearly_emissions_per_manufacturer = (\n",
    "    emissions_pandas.dropna(subset=[\"fuel_consumption\"])\n",
    "    .drop([\"vehicle_family_number\"], axis=1)\n",
    "    .assign(\n",
    "        fuel_type=lambda df: df[\"fuel_type\"].replace({\"PETROL\": \"petrol\"}),\n",
    "        fuel_consumption_per_100km=lambda df: df[\"fuel_consumption\"] * 100,\n",
    "    )\n",
    "    .groupby([\"manufacturer_name\", \"year\"])\n",
    "    .agg(\n",
    "        mean_fuel_consumption=(\"fuel_consumption_per_100km\", \"mean\"),\n",
    "        mean_electric_range=(\"electric_range_km\", \"mean\"),\n",
    "        vehicle_count=(\"vehicle_id\", \"nunique\"),\n",
    "    )\n",
    "    .reset_index()\n",
    "    .sort_values([\"mean_fuel_consumption\", \"year\"], ascending=False)\n",
    "    .loc[lambda df: df[\"vehicle_count\"] >= 100]\n",
    "    .reset_index(drop=True)\n",
    ")"
   ]
  },
  {
   "cell_type": "code",
   "execution_count": null,
   "id": "b3088e53",
   "metadata": {},
   "outputs": [],
   "source": [
    "emissions_polars = pl.DataFrame(emissions_pandas)"
   ]
  },
  {
   "cell_type": "code",
   "execution_count": null,
   "id": "f4c01073",
   "metadata": {},
   "outputs": [],
   "source": [
    "main_yearly_emissions_per_manufacturer = (\n",
    "    emissions_polars.drop_nulls(subset=[\"fuel_consumption\"])\n",
    "    .drop([\"vehicle_family_number\"])\n",
    "    .with_columns(\n",
    "        fuel_type=pl.col.fuel_type.replace({\"PETROL\": \"petrol\"}),\n",
    "        fuel_consumption_per_100km=pl.col.fuel_consumption * 100,\n",
    "    )\n",
    "    .group_by(\"manufacturer_name\", \"year\")\n",
    "    .agg(\n",
    "        mean_fuel_consumption=pl.col.fuel_consumption_per_100km.mean(),\n",
    "        mean_electric_range=pl.col.electric_range_km.mean(),\n",
    "        vehicle_count=pl.col.vehicle_id.n_unique().cast(pl.Int64),\n",
    "    )\n",
    "    .sort([\"mean_fuel_consumption\", \"year\"], descending=True)\n",
    "    .filter(pl.col.vehicle_count >= 100)\n",
    ")"
   ]
  },
  {
   "cell_type": "markdown",
   "id": "7fc7825d",
   "metadata": {},
   "source": [
    "## This is Kent Beck:\n",
    "\n",
    "![alt text](image.png){width=250}\n",
    "\n",
    "- Kent coined the term TDD\n",
    "- Kent created one of the first testing frameworks\n",
    "- Kent found that a testing framework should be written in the same language as the code\n",
    "- Kent say that TDD reduces developer anxiety (Better than Xanax!)\n",
    "- Kent has usually good ideas about software development\n"
   ]
  },
  {
   "cell_type": "code",
   "execution_count": null,
   "id": "b4fbb6c4",
   "metadata": {},
   "outputs": [],
   "source": [
    "emissions_for_tdd = emissions.filter(pl.col.electric_range_km.is_not_null()).collect()"
   ]
  },
  {
   "cell_type": "code",
   "execution_count": null,
   "id": "849fcbb8",
   "metadata": {},
   "outputs": [],
   "source": [
    "emissions_for_tdd"
   ]
  },
  {
   "cell_type": "code",
   "execution_count": null,
   "id": "9e18016a",
   "metadata": {},
   "outputs": [],
   "source": [
    "primary_key_columns = [\n",
    "    \"vehicle_id\",\n",
    "    \"reporting_period\",\n",
    "    \"obfcm_data_source\",\n",
    "    \"used_in_calculation\",\n",
    "]\n",
    "\n",
    "(\n",
    "    emissions_for_tdd.drop_nulls(subset=[\"model_variant\", \"license_plate\"])\n",
    "    .with_columns(pl.col.fuel_type.str.to_lowercase())\n",
    "    .filter(pl.col.fuel_type.is_in([\"diesel\", \"petrol\"]).not_())\n",
    "    .cast({\"used_in_calculation\": pl.Boolean})\n",
    "    .filter(pl.len().over(primary_key_columns) == 1)\n",
    "    .pipe(plg.accepted_range, {\"mass_kg\": (1000, 3000), \"engine_power_kw\": (25, 600)})\n",
    "    .pipe(\n",
    "        plg.has_no_nulls,\n",
    "        [\n",
    "            \"country\",\n",
    "            \"manufacturer_name\",\n",
    "            \"model_type\",\n",
    "            \"model_variant\",\n",
    "            \"license_plate\",\n",
    "            \"brand_name\",\n",
    "            # for primary key\n",
    "            \"vehicle_id\",\n",
    "            \"reporting_period\",\n",
    "            \"used_in_calculation\",\n",
    "        ],\n",
    "    )\n",
    "    .pipe(plg.custom_check, pl.col.fuel_type.str.contains(r\"[A-Z]\").not_())\n",
    "    .pipe(\n",
    "        plg.unique_combination_of_columns,\n",
    "        primary_key_columns,\n",
    "    )\n",
    "    .pipe(plg.not_accepted_values, {\"fuel_type\": [\"diesel\", \"petrol\"]})\n",
    "    .pipe(plg.has_dtypes, {\"used_in_calculation\": pl.Boolean})\n",
    ")"
   ]
  },
  {
   "cell_type": "code",
   "execution_count": null,
   "id": "cd6c9120",
   "metadata": {},
   "outputs": [],
   "source": [
    "(\n",
    "    emissions_for_tdd.select(\n",
    "        \"country\",\n",
    "        \"vehicle_family_number\",\n",
    "        \"manufacturer_name\",\n",
    "        \"model_type\",\n",
    "        \"model_variant\",\n",
    "        \"brand_name\",\n",
    "        \"commercial_name\",\n",
    "        \"registered_category\",\n",
    "    )\n",
    "    .unique()\n",
    "    # .group_by(\"model_variant\")\n",
    "    # .agg(pl.all().unique())\n",
    "    .select(\"brand_name\")\n",
    "    .unique()\n",
    "    .pipe(plg.custom_check, pl.col.brand_name.str.contains_any([r\".\", \"-\"]).not_())\n",
    "    # .pipe(plg.che)\n",
    ")"
   ]
  },
  {
   "cell_type": "code",
   "execution_count": null,
   "id": "8d6bc1d6",
   "metadata": {},
   "outputs": [],
   "source": [
    "full_stocks_by_10min = (\n",
    "    pl.read_parquet(\"data/stocks.parquet\")\n",
    "    .filter(\n",
    "        (\n",
    "            pl.col.zone.is_in([\"zone_28\", \"zone_29\", \"zone_17\"])\n",
    "            & (pl.col.subzone == \"subzone_a\")\n",
    "        ).not_()\n",
    "    )\n",
    "    .with_columns(\n",
    "        pl.col.timestamp.cast(pl.Datetime(time_unit=\"ms\")).dt.truncate(\"10m\"),\n",
    "        pl.col.stock_value.clip(0, None),\n",
    "    )\n",
    "    .group_by(\"zone\", \"subzone\", \"timestamp\")\n",
    "    .agg(\n",
    "        pl.col.stock_value.min().name.suffix(\"_min\"),\n",
    "        pl.col.stock_value.max().name.suffix(\"_max\"),\n",
    "    )\n",
    "    .with_columns(\n",
    "        date=pl.col.timestamp.dt.date(),\n",
    "    )\n",
    "    .filter(pl.len().over(\"zone\", \"subzone\", \"date\") > 1)\n",
    "    .sort(\"zone\", \"subzone\", \"timestamp\")\n",
    "    .pipe(plg.has_dtypes, {\"timestamp\": pl.Datetime(time_unit=\"ms\")})\n",
    "    .pipe(plg.has_no_nulls)\n",
    "    .pipe(plg.is_monotonic, \"timestamp\", strict=True, group_by=[\"zone\", \"subzone\"])\n",
    "    .pipe(plg.unique_combination_of_columns, [\"zone\", \"subzone\", \"timestamp\"])\n",
    "    .pipe(\n",
    "        plg.accepted_range, {\"stock_value_min\": (0, None), \"stock_value_max\": (0, None)}\n",
    "    )\n",
    "    .pipe(\n",
    "        plg.custom_check,\n",
    "        (\n",
    "            pl.col.zone.is_in([\"zone_28\", \"zone_29\", \"zone_17\"])\n",
    "            & (pl.col.subzone == \"subzone_a\")\n",
    "        ).not_(),\n",
    "    )\n",
    "    .pipe(plg.not_constant, columns=\"timestamp\", group_by=[\"zone\", \"subzone\", \"date\"])\n",
    ")\n",
    "full_stocks_by_10min"
   ]
  },
  {
   "cell_type": "code",
   "execution_count": null,
   "id": "ce0c62a6",
   "metadata": {},
   "outputs": [],
   "source": [
    "(\n",
    "    full_stocks_by_10min\n",
    "    .group_by(\"zone\", \"subzone\", \"date\")\n",
    "    .agg(\n",
    "        pl.col.stock_value_min.min(),\n",
    "        pl.col.stock_value_max.max(),\n",
    "        max_interval=pl.col.timestamp.diff().max(),\n",
    "        n_observations=pl.len(),\n",
    "    ).sort(\"max_interval\", descending=True)\n",
    ")"
   ]
  }
 ],
 "metadata": {
  "kernelspec": {
   "display_name": ".venv",
   "language": "python",
   "name": "python3"
  },
  "language_info": {
   "codemirror_mode": {
    "name": "ipython",
    "version": 3
   },
   "file_extension": ".py",
   "mimetype": "text/x-python",
   "name": "python",
   "nbconvert_exporter": "python",
   "pygments_lexer": "ipython3",
   "version": "3.11.12"
  }
 },
 "nbformat": 4,
 "nbformat_minor": 5
}
