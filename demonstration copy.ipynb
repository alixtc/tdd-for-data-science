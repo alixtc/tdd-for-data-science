{
 "cells": [
  {
   "cell_type": "code",
   "execution_count": null,
   "id": "57696798",
   "metadata": {},
   "outputs": [],
   "source": [
    "%load_ext autoreload\n",
    "%autoreload 2\n",
    "\n",
    "import pandas as pd\n",
    "import polars as pl\n",
    "\n",
    "from load_data import data_loader\n",
    "\n",
    "emissions = data_loader()"
   ]
  },
  {
   "cell_type": "markdown",
   "id": "5e1a0db2",
   "metadata": {},
   "source": [
    "My name is Alix Tiran-Cappello, I work as a data scientist / MLOPS pipeline maintainer for Renault Group for my day job.\n",
    "\n",
    "I am only saying this to explain that I get called A LOT to debug some pandas either failing or with absolute garbage performance.\n",
    "\n",
    "And this experience has definitely shaped some ideas that will perspire during this presentation. I will refrain from swearing but you might experience decent levels of salt at times.\n",
    "\n",
    "But today I am here on my own, and what I will say today is not associated in any way with my company.\n",
    "\n",
    "The reason I am here is to present to you a small open source package that I created: `pelage` .\n",
    "\n",
    "My goal is to bring basic key practices of software engineering that have demonstrated usefulness to maintain velocity and imbed quality from the start\n",
    "to help you write better data science code with polars and TDD.\n"
   ]
  },
  {
   "cell_type": "markdown",
   "id": "3b3bc15c",
   "metadata": {},
   "source": [
    "# What is TDD?\n",
    "\n",
    "![alt text](assets/tdd-schema.png){width=500}\n"
   ]
  },
  {
   "cell_type": "markdown",
   "id": "613fa938",
   "metadata": {},
   "source": [
    "What is TDD ?\n",
    "\n",
    "We will see it countless times during this talk.\n",
    "\n",
    "Before we can start with TDD, I'd like to guide you through a brief journey. During this time, we will take some pandas code, AND WITHOUT LOOKING AT THE DATA, translate it using refactoring tests to polars, to get used to its syntax and specificities.\n",
    "\n",
    "Then we will see how we can use pelage to write a meaningful data test, see it fail, then write some simple code, and make it pass.\n"
   ]
  },
  {
   "cell_type": "code",
   "execution_count": 70,
   "id": "117f5150",
   "metadata": {},
   "outputs": [],
   "source": [
    "emissions_pandas = (\n",
    "    emissions.filter(pl.col.electric_range_km.is_not_null()).collect().to_pandas()\n",
    ")"
   ]
  },
  {
   "cell_type": "code",
   "execution_count": 71,
   "id": "dff96578",
   "metadata": {},
   "outputs": [
    {
     "name": "stdout",
     "output_type": "stream",
     "text": [
      "The notifier extension is already loaded. To reload it, use:\n",
      "  %reload_ext notifier\n"
     ]
    }
   ],
   "source": [
    "%load_ext notifier"
   ]
  },
  {
   "cell_type": "markdown",
   "id": "68a928fb",
   "metadata": {},
   "source": [
    "# Step 1: From Pandas To Polars\n",
    "\n",
    "![kent-hat](assets/kent-beck-hat.png){width=150}\n"
   ]
  },
  {
   "cell_type": "code",
   "execution_count": null,
   "id": "3309fcbe",
   "metadata": {},
   "outputs": [],
   "source": [
    "\n",
    "df = emissions_pandas\n",
    "df = df.dropna(subset=[\"fuel_consumption\"])\n",
    "df.drop([\"obfcm_data_source\", \"registered_category\"], axis=1, inplace=True)\n",
    "\n",
    "df[df[\"fuel_type\"] == \"PETROL\"][\"fuel_type\"] = \"petrol\"\n",
    "df[\"fuel_consumption_per_100km\"] = df[\"fuel_consumption\"] * 100\n",
    "\n",
    "grouped = []\n",
    "for manufacturer in df[\"manufacturer_name\"].unique():\n",
    "    manuf_df = df[df[\"manufacturer_name\"] == manufacturer]\n",
    "    for year in df[\"year\"].unique():\n",
    "        subset_df = manuf_df[(manuf_df[\"year\"] == year)]\n",
    "        result = {\"manufacturer_name\": manufacturer,\n",
    "            \"year\": year,\n",
    "            \"mean_fuel_consumption\": subset_df[\"fuel_consumption_per_100km\"].mean(), \"mean_electric_range\": subset_df[\"electric_range_km\"].mean(), \"vehicle_count\": subset_df[\"vehicle_id\"].nunique(),\n",
    "        }\n",
    "        grouped.append(result)\n",
    "\n",
    "grouped = pd.DataFrame(grouped)\n",
    "grouped = grouped.dropna()\n",
    "grouped = grouped.sort_values([\"mean_fuel_consumption\", \"year\"], ascending=False)\n",
    "grouped = grouped[grouped[\"vehicle_count\"] >= 100]\n",
    "grouped = grouped.reset_index(drop=True)\n"
   ]
  },
  {
   "cell_type": "code",
   "execution_count": null,
   "id": "8b68b24a",
   "metadata": {},
   "outputs": [],
   "source": []
  },
  {
   "cell_type": "markdown",
   "id": "f9332ca9",
   "metadata": {},
   "source": [
    "```python\n",
    "main_yearly_emissions_per_manufacturer = (\n",
    "    emissions_pandas.dropna(subset=[\"fuel_consumption\"])\n",
    "    .drop([\"vehicle_family_number\"], axis=1)\n",
    "    .assign(\n",
    "        fuel_type=lambda df: df[\"fuel_type\"].replace({\"PETROL\": \"petrol\"}),\n",
    "        fuel_consumption_per_100km=lambda df: df[\"fuel_consumption\"] * 100,\n",
    "    )\n",
    "    .groupby([\"manufacturer_name\", \"year\"])\n",
    "    .agg(\n",
    "        mean_fuel_consumption=(\"fuel_consumption_per_100km\", \"mean\"),\n",
    "        mean_electric_range=(\"electric_range_km\", \"mean\"),\n",
    "        vehicle_count=(\"vehicle_id\", \"nunique\"),\n",
    "    )\n",
    "    .reset_index()\n",
    "    .sort_values([\"mean_fuel_consumption\", \"year\"], ascending=False)\n",
    "    .loc[lambda df: df[\"vehicle_count\"] >= 100]\n",
    "    .reset_index(drop=True)\n",
    ")\n",
    "\n",
    "emissions_polars = pl.DataFrame(emissions_pandas)\n",
    "\n",
    "main_yearly_emissions_per_manufacturer = (\n",
    "    emissions_polars.drop_nulls(subset=[\"fuel_consumption\"])\n",
    "    .drop([\"vehicle_family_number\"])\n",
    "    .with_columns(\n",
    "        fuel_type=pl.col.fuel_type.replace({\"PETROL\": \"petrol\"}),\n",
    "        fuel_consumption_per_100km=pl.col.fuel_consumption * 100,\n",
    "    )\n",
    "    .group_by(\"manufacturer_name\", \"year\")\n",
    "    .agg(\n",
    "        mean_fuel_consumption=pl.col.fuel_consumption_per_100km.mean(),\n",
    "        mean_electric_range=pl.col.electric_range_km.mean(),\n",
    "        vehicle_count=pl.col.vehicle_id.n_unique().cast(pl.Int64),\n",
    "    )\n",
    "    .sort([\"mean_fuel_consumption\", \"year\"], descending=True)\n",
    "    .filter(pl.col.vehicle_count >= 100)\n",
    ")\n",
    "```\n"
   ]
  },
  {
   "cell_type": "markdown",
   "id": "7fc7825d",
   "metadata": {},
   "source": [
    "# But What About TDD?\n",
    "\n",
    "## This is Kent Beck:\n",
    "\n",
    "![alt text](assets/kent_beck.png){width=350}\n",
    "\n",
    "- ##### Kent coined the term TDD\n",
    "- ##### Kent created one of the first testing frameworks\n",
    "- ##### Kent found that a testing framework should be written in the same language as the code\n",
    "- ##### Kent say that TDD reduces developer anxiety (Better than Xanax!)\n",
    "- ##### Kent has usually good ideas about software development\n"
   ]
  },
  {
   "cell_type": "markdown",
   "id": "f372dc5c",
   "metadata": {},
   "source": [
    "## Enters Pelage\n",
    "\n",
    "##### A testing framework to be used with polars to express data science concepts clearly and easily.\n",
    "\n",
    "##### Pass a dataframe to a testing function:\n",
    "\n",
    "- ##### If it fails you get a nice descriptive error message!\n",
    "- ##### If it passes, you get your dataframe back!\n"
   ]
  },
  {
   "cell_type": "markdown",
   "id": "ec88c075",
   "metadata": {},
   "source": []
  },
  {
   "cell_type": "code",
   "execution_count": 91,
   "id": "b4fbb6c4",
   "metadata": {},
   "outputs": [],
   "source": [
    "emissions_for_tdd = emissions.filter(pl.col.electric_range_km.is_not_null()).collect()"
   ]
  },
  {
   "cell_type": "markdown",
   "id": "ca947496",
   "metadata": {},
   "source": [
    "## Step 2: Now Let's Do Some Real Tdd In Polars!\n"
   ]
  },
  {
   "cell_type": "code",
   "execution_count": null,
   "id": "849fcbb8",
   "metadata": {},
   "outputs": [
    {
     "data": {
      "text/html": [
       "<div><style>\n",
       ".dataframe > thead > tr,\n",
       ".dataframe > tbody > tr {\n",
       "  text-align: right;\n",
       "  white-space: pre-wrap;\n",
       "}\n",
       "</style>\n",
       "<small>shape: (995_875, 24)</small><table border=\"1\" class=\"dataframe\"><thead><tr><th>vehicle_id</th><th>reporting_period</th><th>obfcm_data_source</th><th>used_in_calculation</th><th>country</th><th>manufacturer_name</th><th>model_type</th><th>model_variant</th><th>license_plate</th><th>brand_name</th><th>commercial_name</th><th>registered_category</th><th>ewltp_g_per_km</th><th>fuel_type</th><th>fuel_mode</th><th>year</th><th>fuel_consumption</th><th>electric_consumption_wh_per_km</th><th>electric_range_km</th><th>engine_capacity_cm3</th><th>engine_power_kw</th><th>mass_kg</th><th>total_fuel_consumed_l</th><th>total_distance_travelled_km</th></tr><tr><td>i64</td><td>i64</td><td>str</td><td>bool</td><td>str</td><td>str</td><td>str</td><td>str</td><td>str</td><td>str</td><td>str</td><td>str</td><td>f64</td><td>str</td><td>str</td><td>i64</td><td>f64</td><td>f64</td><td>f64</td><td>f64</td><td>f64</td><td>f64</td><td>f64</td><td>f64</td></tr></thead><tbody><tr><td>9515604</td><td>2023</td><td>&quot;OEM&quot;</td><td>false</td><td>&quot;BE&quot;</td><td>&quot;MERCEDES-BENZ AG&quot;</td><td>&quot;R1ES&quot;</td><td>&quot;U21IT0&quot;</td><td>&quot;CZAA050C&quot;</td><td>&quot;MERCEDES-BENZ&quot;</td><td>&quot;E 300 DE&quot;</td><td>&quot;M1&quot;</td><td>36.0</td><td>&quot;diesel/electric&quot;</td><td>&quot;P&quot;</td><td>2023</td><td>1.4</td><td>212.0</td><td>52.0</td><td>1950.0</td><td>143.0</td><td>2145.0</td><td>1.68</td><td>8.2</td></tr><tr><td>13523581</td><td>2023</td><td>&quot;OEM&quot;</td><td>true</td><td>&quot;FR&quot;</td><td>&quot;CHRYSLER&quot;</td><td>&quot;JK&quot;</td><td>&quot;JTAFG&quot;</td><td>&quot;N5H62A&quot;</td><td>&quot;JEEP&quot;</td><td>&quot;WRANGLER UNLIMITED&quot;</td><td>&quot;M1G&quot;</td><td>79.0</td><td>&quot;petrol/electric&quot;</td><td>&quot;P&quot;</td><td>2022</td><td>3.5</td><td>221.0</td><td>44.0</td><td>1995.0</td><td>200.0</td><td>2348.0</td><td>1140.2</td><td>11678.3</td></tr><tr><td>6849622</td><td>2023</td><td>&quot;OEM&quot;</td><td>true</td><td>&quot;NL&quot;</td><td>&quot;BMW AG&quot;</td><td>&quot;G5X&quot;</td><td>&quot;TA61&quot;</td><td>&quot;IAA50900&quot;</td><td>&quot;BMW&quot;</td><td>&quot;X5 xDrive45e&quot;</td><td>&quot;M1G&quot;</td><td>29.0</td><td>&quot;petrol/electric&quot;</td><td>&quot;P&quot;</td><td>2021</td><td>1.3</td><td>251.0</td><td>85.0</td><td>2998.0</td><td>210.0</td><td>2510.0</td><td>2096.85</td><td>31197.1</td></tr><tr><td>11510555</td><td>2023</td><td>&quot;OEM&quot;</td><td>true</td><td>&quot;DE&quot;</td><td>&quot;BMW AG&quot;</td><td>&quot;G3X&quot;</td><td>&quot;TS11&quot;</td><td>&quot;IAW50000&quot;</td><td>&quot;BMW&quot;</td><td>&quot;X3 xDrive30e&quot;</td><td>&quot;M1G&quot;</td><td>46.0</td><td>&quot;petrol/electric&quot;</td><td>&quot;P&quot;</td><td>2021</td><td>2.0</td><td>188.0</td><td>50.0</td><td>1998.0</td><td>135.0</td><td>2065.0</td><td>941.06</td><td>17041.8</td></tr><tr><td>739896</td><td>2023</td><td>&quot;OEM&quot;</td><td>true</td><td>&quot;LU&quot;</td><td>&quot;MERCEDES-BENZ AG&quot;</td><td>&quot;212&quot;</td><td>&quot;U01IT1&quot;</td><td>&quot;CZAA050A&quot;</td><td>&quot;MERCEDES-BENZ&quot;</td><td>&quot;E 300 DE 4MATIC&quot;</td><td>&quot;M1&quot;</td><td>37.0</td><td>&quot;diesel/electric&quot;</td><td>&quot;P&quot;</td><td>2021</td><td>1.4</td><td>236.0</td><td>51.0</td><td>1950.0</td><td>143.0</td><td>2130.0</td><td>1436.4</td><td>30657.2</td></tr><tr><td>&hellip;</td><td>&hellip;</td><td>&hellip;</td><td>&hellip;</td><td>&hellip;</td><td>&hellip;</td><td>&hellip;</td><td>&hellip;</td><td>&hellip;</td><td>&hellip;</td><td>&hellip;</td><td>&hellip;</td><td>&hellip;</td><td>&hellip;</td><td>&hellip;</td><td>&hellip;</td><td>&hellip;</td><td>&hellip;</td><td>&hellip;</td><td>&hellip;</td><td>&hellip;</td><td>&hellip;</td><td>&hellip;</td><td>&hellip;</td></tr><tr><td>10739202</td><td>2023</td><td>&quot;OEM&quot;</td><td>false</td><td>&quot;FR&quot;</td><td>&quot;AUTOMOBILES PEUGEOT&quot;</td><td>&quot;M&quot;</td><td>&quot;4&quot;</td><td>&quot;DGZU-C12000&quot;</td><td>&quot;PEUGEOT&quot;</td><td>&quot;3008&quot;</td><td>&quot;M1&quot;</td><td>28.0</td><td>&quot;petrol/electric&quot;</td><td>&quot;P&quot;</td><td>2023</td><td>1.2</td><td>163.0</td><td>67.0</td><td>1598.0</td><td>133.0</td><td>1838.0</td><td>3.56</td><td>11.2</td></tr><tr><td>10715121</td><td>2023</td><td>&quot;OEM&quot;</td><td>true</td><td>&quot;DE&quot;</td><td>&quot;AUTOMOBILES PEUGEOT&quot;</td><td>&quot;M&quot;</td><td>&quot;4&quot;</td><td>&quot;5GBU-C1J000&quot;</td><td>&quot;PEUGEOT&quot;</td><td>&quot;3008&quot;</td><td>&quot;M1&quot;</td><td>30.0</td><td>&quot;petrol/electric&quot;</td><td>&quot;P&quot;</td><td>2021</td><td>1.3</td><td>153.0</td><td>63.0</td><td>1598.0</td><td>147.0</td><td>1915.0</td><td>1505.49</td><td>19862.6</td></tr><tr><td>8267319</td><td>2023</td><td>&quot;OEM&quot;</td><td>false</td><td>&quot;SE&quot;</td><td>&quot;TOYOTA&quot;</td><td>&quot;XA5P(EU,M)&quot;</td><td>&quot;AXAP54(N)&quot;</td><td>&quot;AXAP54L-ANXGBW(1A)&quot;</td><td>&quot;TOYOTA&quot;</td><td>&quot;TOYOTA RAV4&quot;</td><td>&quot;M1&quot;</td><td>22.0</td><td>&quot;petrol/electric&quot;</td><td>&quot;P&quot;</td><td>2021</td><td>1.0</td><td>166.0</td><td>75.0</td><td>2487.0</td><td>136.0</td><td>2005.0</td><td>0.0</td><td>0.0</td></tr><tr><td>5015536</td><td>2023</td><td>&quot;OEM&quot;</td><td>true</td><td>&quot;BE&quot;</td><td>&quot;MERCEDES-BENZ AG&quot;</td><td>&quot;H1GLE&quot;</td><td>&quot;B21JT1&quot;</td><td>&quot;CZAAB56A&quot;</td><td>&quot;MERCEDES-BENZ&quot;</td><td>&quot;GLE 350 DE 4MATIC&quot;</td><td>&quot;M1&quot;</td><td>20.0</td><td>&quot;diesel/electric&quot;</td><td>&quot;P&quot;</td><td>2022</td><td>0.7</td><td>271.0</td><td>95.0</td><td>1950.0</td><td>143.0</td><td>2655.0</td><td>4832.79</td><td>70584.6</td></tr><tr><td>209832</td><td>2023</td><td>&quot;OEM&quot;</td><td>false</td><td>&quot;NL&quot;</td><td>&quot;VOLVO&quot;</td><td>&quot;Z&quot;</td><td>&quot;ZWBF&quot;</td><td>&quot;ZWBFVD0?&quot;</td><td>&quot;VOLVO&quot;</td><td>&quot;V60&quot;</td><td>&quot;M1&quot;</td><td>42.0</td><td>&quot;petrol/electric&quot;</td><td>&quot;P&quot;</td><td>2021</td><td>null</td><td>160.0</td><td>53.0</td><td>1969.0</td><td>186.0</td><td>2075.0</td><td>2644.0</td><td>47648.0</td></tr></tbody></table></div>"
      ],
      "text/plain": [
       "shape: (995_875, 24)\n",
       "┌────────────┬───────────┬───────────┬───────────┬───┬───────────┬─────────┬───────────┬───────────┐\n",
       "│ vehicle_id ┆ reporting ┆ obfcm_dat ┆ used_in_c ┆ … ┆ engine_po ┆ mass_kg ┆ total_fue ┆ total_dis │\n",
       "│ ---        ┆ _period   ┆ a_source  ┆ alculatio ┆   ┆ wer_kw    ┆ ---     ┆ l_consume ┆ tance_tra │\n",
       "│ i64        ┆ ---       ┆ ---       ┆ n         ┆   ┆ ---       ┆ f64     ┆ d_l       ┆ velled_km │\n",
       "│            ┆ i64       ┆ str       ┆ ---       ┆   ┆ f64       ┆         ┆ ---       ┆ ---       │\n",
       "│            ┆           ┆           ┆ bool      ┆   ┆           ┆         ┆ f64       ┆ f64       │\n",
       "╞════════════╪═══════════╪═══════════╪═══════════╪═══╪═══════════╪═════════╪═══════════╪═══════════╡\n",
       "│ 9515604    ┆ 2023      ┆ OEM       ┆ false     ┆ … ┆ 143.0     ┆ 2145.0  ┆ 1.68      ┆ 8.2       │\n",
       "│ 13523581   ┆ 2023      ┆ OEM       ┆ true      ┆ … ┆ 200.0     ┆ 2348.0  ┆ 1140.2    ┆ 11678.3   │\n",
       "│ 6849622    ┆ 2023      ┆ OEM       ┆ true      ┆ … ┆ 210.0     ┆ 2510.0  ┆ 2096.85   ┆ 31197.1   │\n",
       "│ 11510555   ┆ 2023      ┆ OEM       ┆ true      ┆ … ┆ 135.0     ┆ 2065.0  ┆ 941.06    ┆ 17041.8   │\n",
       "│ 739896     ┆ 2023      ┆ OEM       ┆ true      ┆ … ┆ 143.0     ┆ 2130.0  ┆ 1436.4    ┆ 30657.2   │\n",
       "│ …          ┆ …         ┆ …         ┆ …         ┆ … ┆ …         ┆ …       ┆ …         ┆ …         │\n",
       "│ 10739202   ┆ 2023      ┆ OEM       ┆ false     ┆ … ┆ 133.0     ┆ 1838.0  ┆ 3.56      ┆ 11.2      │\n",
       "│ 10715121   ┆ 2023      ┆ OEM       ┆ true      ┆ … ┆ 147.0     ┆ 1915.0  ┆ 1505.49   ┆ 19862.6   │\n",
       "│ 8267319    ┆ 2023      ┆ OEM       ┆ false     ┆ … ┆ 136.0     ┆ 2005.0  ┆ 0.0       ┆ 0.0       │\n",
       "│ 5015536    ┆ 2023      ┆ OEM       ┆ true      ┆ … ┆ 143.0     ┆ 2655.0  ┆ 4832.79   ┆ 70584.6   │\n",
       "│ 209832     ┆ 2023      ┆ OEM       ┆ false     ┆ … ┆ 186.0     ┆ 2075.0  ┆ 2644.0    ┆ 47648.0   │\n",
       "└────────────┴───────────┴───────────┴───────────┴───┴───────────┴─────────┴───────────┴───────────┘"
      ]
     },
     "execution_count": 110,
     "metadata": {},
     "output_type": "execute_result"
    }
   ],
   "source": []
  },
  {
   "cell_type": "markdown",
   "id": "9e18016a",
   "metadata": {},
   "source": [
    "```python\n",
    "primary_key_columns = [\n",
    "    \"vehicle_id\",\n",
    "    \"reporting_period\",\n",
    "    \"obfcm_data_source\",\n",
    "    \"used_in_calculation\",\n",
    "]\n",
    "\n",
    "(\n",
    "    emissions_for_tdd.drop_nulls(subset=[\"model_variant\", \"license_plate\"])\n",
    "    .with_columns(pl.col.fuel_type.str.to_lowercase())\n",
    "    .filter(pl.col.fuel_type.is_in([\"diesel\", \"petrol\"]).not_())\n",
    "    .cast({\"used_in_calculation\": pl.Boolean})\n",
    "    .filter(pl.len().over(primary_key_columns) == 1)\n",
    "    .pipe(plg.accepted_range, {\"mass_kg\": (1000, 3000), \"engine_power_kw\": (25, 600)})\n",
    "    .pipe(\n",
    "        plg.has_no_nulls,\n",
    "        [\n",
    "            \"country\",\n",
    "            \"manufacturer_name\",\n",
    "            \"model_type\",\n",
    "            \"model_variant\",\n",
    "            \"license_plate\",\n",
    "            \"brand_name\",\n",
    "            *primary_key_columns,\n",
    "        ],\n",
    "    )\n",
    "    .pipe(plg.custom_check, pl.col.fuel_type.str.contains(r\"[A-Z]\").not_())\n",
    "    .pipe(\n",
    "        plg.unique_combination_of_columns,\n",
    "        primary_key_columns,\n",
    "    )\n",
    "    .pipe(plg.not_accepted_values, {\"fuel_type\": [\"diesel\", \"petrol\"]})\n",
    "    .pipe(plg.has_dtypes, {\"used_in_calculation\": pl.Boolean})\n",
    ")\n",
    "```\n"
   ]
  },
  {
   "cell_type": "code",
   "execution_count": null,
   "id": "dbc9b3a2",
   "metadata": {},
   "outputs": [],
   "source": [
    "loaded_stocks = pl.read_parquet(\"data/stocks.parquet\")"
   ]
  },
  {
   "cell_type": "markdown",
   "id": "8d6bc1d6",
   "metadata": {},
   "source": [
    "```python\n",
    "full_stocks_by_10min = (\n",
    "    loaded_stocks\n",
    "    .filter(\n",
    "        (\n",
    "            pl.col.zone.is_in([\"zone_28\", \"zone_29\", \"zone_17\"])\n",
    "            & (pl.col.subzone == \"subzone_a\")\n",
    "        ).not_()\n",
    "    )\n",
    "    .with_columns(\n",
    "        pl.col.timestamp.cast(pl.Datetime(time_unit=\"ms\")).dt.truncate(\"10m\"),\n",
    "        pl.col.stock_value.clip(0, None),\n",
    "    )\n",
    "    .group_by(\"zone\", \"subzone\", \"timestamp\")\n",
    "    .agg(\n",
    "        pl.col.stock_value.min().name.suffix(\"_min\"),\n",
    "        pl.col.stock_value.max().name.suffix(\"_max\"),\n",
    "    )\n",
    "    .with_columns(\n",
    "        date=pl.col.timestamp.dt.date(),\n",
    "    )\n",
    "    .filter(pl.len().over(\"zone\", \"subzone\", \"date\") > 1)\n",
    "    .sort(\"zone\", \"subzone\", \"timestamp\")\n",
    "    .pipe(plg.has_dtypes, {\"timestamp\": pl.Datetime(time_unit=\"ms\")})\n",
    "    .pipe(plg.has_no_nulls)\n",
    "    .pipe(plg.is_monotonic, \"timestamp\", strict=True, group_by=[\"zone\", \"subzone\"])\n",
    "    .pipe(plg.unique_combination_of_columns, [\"zone\", \"subzone\", \"timestamp\"])\n",
    "    .pipe(\n",
    "        plg.accepted_range, {\"stock_value_min\": (0, None), \"stock_value_max\": (0, None)}\n",
    "    )\n",
    "    .pipe(\n",
    "        plg.custom_check,\n",
    "        (\n",
    "            pl.col.zone.is_in([\"zone_28\", \"zone_29\", \"zone_17\"])\n",
    "            & (pl.col.subzone == \"subzone_a\")\n",
    "        ).not_(),\n",
    "    )\n",
    "    .pipe(plg.not_constant, columns=\"timestamp\", group_by=[\"zone\", \"subzone\", \"date\"])\n",
    ")\n",
    "full_stocks_by_10min\n",
    "```\n"
   ]
  },
  {
   "cell_type": "markdown",
   "id": "75310255",
   "metadata": {},
   "source": [
    "I'll leave it here for now because we have seen enough examples so that you can get a reasonable idea of pelage capabilities.\n",
    "We saw some checks that apply for columns, rows and even groups and there are more features for time series, infinite values and more.\n",
    "\n",
    "# Conclusion\n",
    "\n",
    "To summarize this presentation, we have seen how we can refactor some horrible slow-performing pandas code into good pandas code using method chaining.\n",
    "\n",
    "We have seen that it is then fairly easy to translate into polars, with a good equivalence test, you just write a `.pipe(pl.DataFrame)` and then you shift it up!\n",
    "\n",
    "And then we discovered how much valuable insights and intel we can derive from just a few simple data tests to build up our analysis.\n",
    "\n",
    "As you can see, being able to express tests in the same manner as the code you are writing is a critical part of the TDD workflow.\n",
    "\n",
    "But thankfully this part has already be done for your in pelage, because under the hood, beside a few things to process user inputs, all the core logic leverages polars.\n",
    "\n",
    "The result is a relative simple but easy to use package, that allows to write from the very start code of great quality that is required for production.\n",
    "\n",
    "All you have to do is: write a failing test, write some code to make it pass, once the test passes, refactor to make it better.\n",
    "\n",
    "# And Now?\n",
    "\n",
    "- ### Got to the website: https://alixtc.github.io/pelage/\n",
    "- ### Type `uv add pelage`\n"
   ]
  }
 ],
 "metadata": {
  "kernelspec": {
   "display_name": ".venv",
   "language": "python",
   "name": "python3"
  },
  "language_info": {
   "codemirror_mode": {
    "name": "ipython",
    "version": 3
   },
   "file_extension": ".py",
   "mimetype": "text/x-python",
   "name": "python",
   "nbconvert_exporter": "python",
   "pygments_lexer": "ipython3",
   "version": "3.11.12"
  }
 },
 "nbformat": 4,
 "nbformat_minor": 5
}
