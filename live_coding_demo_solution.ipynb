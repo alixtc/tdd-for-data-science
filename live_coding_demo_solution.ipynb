{
 "cells": [
  {
   "cell_type": "markdown",
   "id": "6669b4c7",
   "metadata": {},
   "source": [
    "![](assets/image.png)\n"
   ]
  },
  {
   "cell_type": "markdown",
   "id": "3b3bc15c",
   "metadata": {},
   "source": [
    "# What is TDD?\n",
    "\n",
    "![alt text](assets/tdd-schema.png){width=500}\n"
   ]
  },
  {
   "cell_type": "markdown",
   "id": "613fa938",
   "metadata": {},
   "source": [
    "What is TDD ?\n",
    "\n",
    "We will see it countless times during this talk.\n",
    "\n",
    "Before we can start with TDD, I'd like to guide you through a brief journey. During this time, we will take some pandas code, AND WITHOUT LOOKING AT THE DATA, translate it using refactoring tests to polars, to get used to its syntax and specificities.\n",
    "\n",
    "Then we will see how we can use pelage to write a meaningful data test, see it fail, then write some simple code, and make it pass.\n"
   ]
  },
  {
   "cell_type": "markdown",
   "id": "68a928fb",
   "metadata": {},
   "source": [
    "# Step 1: From Pandas To Polars\n",
    "\n",
    "![kent-hat](assets/kent-beck-hat.png){width=150}\n"
   ]
  },
  {
   "cell_type": "code",
   "execution_count": null,
   "id": "57696798",
   "metadata": {},
   "outputs": [],
   "source": [
    "%load_ext autoreload\n",
    "%autoreload 2\n",
    "\n",
    "import pandas as pd\n",
    "import polars as pl\n",
    "\n",
    "from load_data import data_loader\n",
    "\n",
    "emissions_pandas = (\n",
    "    data_loader().filter(pl.col.electric_range_km.is_not_null()).collect().to_pandas()\n",
    ")"
   ]
  },
  {
   "cell_type": "code",
   "execution_count": null,
   "id": "dff96578",
   "metadata": {},
   "outputs": [],
   "source": [
    "%load_ext notifier"
   ]
  },
  {
   "cell_type": "code",
   "execution_count": null,
   "id": "3309fcbe",
   "metadata": {},
   "outputs": [],
   "source": [
    "\n",
    "df = emissions_pandas\n",
    "df = df.dropna(subset=[\"fuel_consumption\"])\n",
    "df.drop([\"obfcm_data_source\", \"registered_category\"], axis=1, inplace=True)\n",
    "\n",
    "df[df[\"fuel_type\"] == \"PETROL\"][\"fuel_type\"] = \"petrol\"\n",
    "df[\"fuel_consumption_per_100km\"] = df[\"fuel_consumption\"] * 100\n",
    "\n",
    "grouped = []\n",
    "for manufacturer in df[\"manufacturer_name\"].unique():\n",
    "    manuf_df = df[df[\"manufacturer_name\"] == manufacturer]\n",
    "    for year in df[\"year\"].unique():\n",
    "        subset_df = manuf_df[(manuf_df[\"year\"] == year)]\n",
    "        result = {\"manufacturer_name\": manufacturer,\n",
    "            \"year\": year,\n",
    "            \"mean_fuel_consumption\": subset_df[\"fuel_consumption_per_100km\"].mean(), \"mean_electric_range\": subset_df[\"electric_range_km\"].mean(), \"vehicle_count\": subset_df[\"vehicle_id\"].nunique(),\n",
    "        }\n",
    "        grouped.append(result)\n",
    "\n",
    "grouped = pd.DataFrame(grouped)\n",
    "grouped = grouped.dropna()\n",
    "grouped = grouped.sort_values([\"mean_fuel_consumption\", \"year\"], ascending=False)\n",
    "grouped = grouped[grouped[\"vehicle_count\"] >= 100]\n",
    "grouped = grouped.reset_index(drop=True)\n"
   ]
  },
  {
   "cell_type": "markdown",
   "id": "f9332ca9",
   "metadata": {},
   "source": [
    "## Refactoring\n",
    "\n"
   ]
  },
  {
   "cell_type": "code",
   "execution_count": null,
   "id": "fd1e6839",
   "metadata": {},
   "outputs": [],
   "source": [
    "main_yearly_emissions_per_manufacturer = (\n",
    "    emissions_pandas.dropna(subset=[\"fuel_consumption\"])\n",
    "    .drop([\"obfcm_data_source\", \"registered_category\"], axis=1)\n",
    "    .assign(\n",
    "        fuel_type=lambda df: df[\"fuel_type\"].replace({\"PETROL\": \"petrol\"}),\n",
    "        fuel_consumption_per_100km=lambda df: df[\"fuel_consumption\"] * 100,\n",
    "    )\n",
    "    .groupby([\"manufacturer_name\", \"year\"])\n",
    "    .agg(\n",
    "        mean_fuel_consumption=(\"fuel_consumption_per_100km\", \"mean\"),\n",
    "        mean_electric_range=(\"electric_range_km\", \"mean\"),\n",
    "        vehicle_count=(\"vehicle_id\", \"nunique\"),\n",
    "    )\n",
    "    .reset_index()\n",
    "    .sort_values([\"mean_fuel_consumption\", \"year\"], ascending=False)\n",
    "    .loc[lambda df: df[\"vehicle_count\"] >= 100]\n",
    "    .reset_index(drop=True)\n",
    ")\n",
    "\n",
    "emissions_polars = pl.DataFrame(emissions_pandas)\n",
    "\n",
    "main_yearly_emissions_per_manufacturer = (\n",
    "    emissions_polars.drop_nulls(subset=[\"fuel_consumption\"])\n",
    "    .drop([\"obfcm_data_source\", \"registered_category\"])\n",
    "    .with_columns(\n",
    "        fuel_type=pl.col.fuel_type.replace({\"PETROL\": \"petrol\"}),\n",
    "        fuel_consumption_per_100km=pl.col.fuel_consumption * 100,\n",
    "    )\n",
    "    .group_by(\"manufacturer_name\", \"year\")\n",
    "    .agg(\n",
    "        mean_fuel_consumption=pl.col.fuel_consumption_per_100km.mean(),\n",
    "        mean_electric_range=pl.col.electric_range_km.mean(),\n",
    "        vehicle_count=pl.col.vehicle_id.n_unique().cast(pl.Int64),\n",
    "    )\n",
    "    .sort([\"mean_fuel_consumption\", \"year\"], descending=True)\n",
    "    .filter(pl.col.vehicle_count >= 100)\n",
    ")"
   ]
  },
  {
   "cell_type": "markdown",
   "id": "7fc7825d",
   "metadata": {},
   "source": [
    "# But What About TDD?\n",
    "\n",
    "## This is Kent Beck:\n",
    "\n",
    "![alt text](assets/kent_beck.png){width=300}\n",
    "\n",
    "- ##### Kent coined the term TDD\n",
    "- ##### Kent created one of the first testing frameworks\n",
    "- ##### Kent found that a testing framework should be written in the same language as the code\n",
    "- ##### Kent say that TDD reduces developer anxiety (Better than Xanax!)\n",
    "- ##### Kent has usually good ideas about software development\n"
   ]
  },
  {
   "cell_type": "code",
   "execution_count": null,
   "id": "8b68b24a",
   "metadata": {},
   "outputs": [],
   "source": []
  },
  {
   "cell_type": "markdown",
   "id": "f372dc5c",
   "metadata": {},
   "source": [
    "## Enters `Pelage`\n",
    "\n",
    "##### A testing framework to be used with polars to express data science tests clearly and easily.\n",
    "\n",
    "##### Pass a dataframe to a testing function:\n",
    "\n",
    "- ##### If it fails you get a nice descriptive error message!\n",
    "- ##### If it passes, you get your dataframe back!\n"
   ]
  },
  {
   "cell_type": "markdown",
   "id": "ca947496",
   "metadata": {},
   "source": [
    "## Step 2: Now Let's Do Some Real Tdd In Polars!\n"
   ]
  },
  {
   "cell_type": "code",
   "execution_count": null,
   "id": "b4fbb6c4",
   "metadata": {},
   "outputs": [],
   "source": [
    "emissions_for_tdd = (\n",
    "    data_loader().filter(pl.col.electric_range_km.is_not_null()).collect()\n",
    ")"
   ]
  },
  {
   "cell_type": "markdown",
   "id": "f856c30f",
   "metadata": {},
   "source": [
    "## TDD With Polars and Pelage\n"
   ]
  },
  {
   "cell_type": "code",
   "execution_count": null,
   "id": "01c71fad",
   "metadata": {},
   "outputs": [],
   "source": [
    "import pelage as plg\n",
    "\n",
    "primary_key_columns = [\n",
    "    \"vehicle_id\",\n",
    "    \"reporting_period\",\n",
    "    \"obfcm_data_source\",\n",
    "    \"used_in_calculation\",\n",
    "]\n",
    "(\n",
    "    emissions_for_tdd.drop_nulls(subset=[\"model_variant\", \"license_plate\"])\n",
    "    .with_columns(pl.col.fuel_type.str.to_lowercase())\n",
    "    .filter(pl.col.fuel_type.is_in([\"diesel\", \"petrol\"]).not_())\n",
    "    .cast({\"used_in_calculation\": pl.Boolean})\n",
    "    .filter(pl.len().over(primary_key_columns) == 1)\n",
    "    .pipe(plg.accepted_range, {\"mass_kg\": (1000, 3000), \"engine_power_kw\": (25, 600)})\n",
    "    .pipe(\n",
    "        plg.has_no_nulls,\n",
    "        [\n",
    "            \"country\",\n",
    "            \"manufacturer_name\",\n",
    "            \"model_type\",\n",
    "            \"model_variant\",\n",
    "            \"license_plate\",\n",
    "            \"brand_name\",\n",
    "            *primary_key_columns,\n",
    "        ],\n",
    "    )\n",
    "    .pipe(plg.custom_check, pl.col.fuel_type.str.contains(r\"[A-Z]\").not_())\n",
    "    .pipe(\n",
    "        plg.unique_combination_of_columns,\n",
    "        primary_key_columns,\n",
    "    )\n",
    "    .pipe(plg.not_accepted_values, {\"fuel_type\": [\"diesel\", \"petrol\"]})\n",
    "    .pipe(plg.has_dtypes, {\"used_in_calculation\": pl.Boolean})\n",
    ")"
   ]
  },
  {
   "cell_type": "markdown",
   "id": "8d6bc1d6",
   "metadata": {},
   "source": [
    "## TDD With Polars And Pelage (part 2)\n"
   ]
  },
  {
   "cell_type": "code",
   "execution_count": null,
   "id": "c5086839",
   "metadata": {},
   "outputs": [],
   "source": [
    "loaded_stocks = pl.read_parquet(\"data/stocks.parquet\")\n",
    "full_stocks_by_10min = (\n",
    "    loaded_stocks\n",
    "    .filter(\n",
    "        (\n",
    "            pl.col.zone.is_in([\"zone_28\", \"zone_29\", \"zone_17\"])\n",
    "            & (pl.col.subzone == \"subzone_a\")\n",
    "        ).not_()\n",
    "    )\n",
    "    .with_columns(\n",
    "        pl.col.timestamp.str.to_datetime(time_unit=\"ms\").dt.truncate(\"10m\"),\n",
    "        pl.col.stock_value.clip(0, None),\n",
    "    )\n",
    "    .group_by(\"zone\", \"subzone\", \"timestamp\")\n",
    "    .agg(\n",
    "        pl.col.stock_value.min().name.suffix(\"_min\"),\n",
    "        pl.col.stock_value.max().name.suffix(\"_max\"),\n",
    "    )\n",
    "    .with_columns(\n",
    "        date=pl.col.timestamp.dt.date(),\n",
    "    )\n",
    "    .filter(pl.len().over(\"zone\", \"subzone\", \"date\") > 1)\n",
    "    .sort(\"zone\", \"subzone\", \"timestamp\")\n",
    "    .pipe(plg.has_dtypes, {\"timestamp\": pl.Datetime(time_unit=\"ms\")})\n",
    "    .pipe(plg.has_no_nulls)\n",
    "    .pipe(plg.is_monotonic, \"timestamp\", strict=True, group_by=[\"zone\", \"subzone\"])\n",
    "    .pipe(plg.unique_combination_of_columns, [\"zone\", \"subzone\", \"timestamp\"])\n",
    "    .pipe(\n",
    "        plg.accepted_range, {\"stock_value_min\": (0, None), \"stock_value_max\": (0, None)}\n",
    "    )\n",
    "    .pipe(\n",
    "        plg.custom_check,\n",
    "        (\n",
    "            pl.col.zone.is_in([\"zone_28\", \"zone_29\", \"zone_17\"])\n",
    "            & (pl.col.subzone == \"subzone_a\")\n",
    "        ).not_(),\n",
    "    )\n",
    "    .pipe(plg.not_constant, columns=\"timestamp\", group_by=[\"zone\", \"subzone\", \"date\"])\n",
    ")\n",
    "full_stocks_by_10min\n"
   ]
  },
  {
   "cell_type": "markdown",
   "id": "fc2fa600",
   "metadata": {},
   "source": [
    "# Conclusion\n",
    "\n",
    "#### Method Chaining: From horrible slow-performing pandas to good, easy-to-read pandas code.\n",
    "\n",
    "#### Translation to polars becomes easy: A good equivalence test + `.pipe(pl.DataFrame)` + you shift this up!\n",
    "\n",
    "#### With TDD in data science, we rapidly get larger insights from just a few data-tests as we build up our analysis:\n",
    "\n",
    "- **Being able to express tests in the same manner as your code is a critical part of the TDD workflow.**\n",
    "- **This is already done for your in pelage, the core logic leverages polars (except for processing user inputs).**\n",
    "- **The result: a simple, easy to use package, that allows to write from the start code of great quality that is required for production contexts.**\n",
    "\n",
    "#### All you have to do is:\n",
    "\n",
    "- **❌ Write a failing test!**\n",
    "- **✅ Write some code to make it pass!**\n",
    "- **🔄 Refactor to make it better!**\n"
   ]
  },
  {
   "cell_type": "markdown",
   "id": "bfd47bf2",
   "metadata": {},
   "source": [
    "# And Now?\n",
    "\n",
    "- ### Type `uv add pelage` ( ~~pip install pelage~~, it works but `uv` is better )\n",
    "- ### Got to the website: https://alixtc.github.io/pelage/\n",
    "- ### QR Code for the Presentation\n",
    "  ![](assets/qr_presentation_link.png){width=200}\n",
    "- ### QR Code for my LinkedIn\n",
    "  ![](assets/qr_linkedin_profile.png){width=200}\n"
   ]
  }
 ],
 "metadata": {
  "kernelspec": {
   "display_name": ".venv",
   "language": "python",
   "name": "python3"
  },
  "language_info": {
   "codemirror_mode": {
    "name": "ipython",
    "version": 3
   },
   "file_extension": ".py",
   "mimetype": "text/x-python",
   "name": "python",
   "nbconvert_exporter": "python",
   "pygments_lexer": "ipython3",
   "version": "3.11.12"
  }
 },
 "nbformat": 4,
 "nbformat_minor": 5
}
