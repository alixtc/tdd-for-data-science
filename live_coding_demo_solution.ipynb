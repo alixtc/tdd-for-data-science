{
 "cells": [
  {
   "cell_type": "markdown",
   "id": "6669b4c7",
   "metadata": {},
   "source": [
    "![](assets/image.png)\n"
   ]
  },
  {
   "cell_type": "markdown",
   "id": "3b3bc15c",
   "metadata": {},
   "source": [
    "# What is TDD?\n",
    "\n",
    "![alt text](assets/tdd-schema.png){width=500}\n"
   ]
  },
  {
   "cell_type": "markdown",
   "id": "613fa938",
   "metadata": {},
   "source": [
    "What is TDD ?\n",
    "\n",
    "We will see it countless times during this talk.\n",
    "\n",
    "Before we can start with TDD, I'd like to guide you through a brief journey. During this time, we will take some pandas code, AND WITHOUT LOOKING AT THE DATA, translate it using refactoring tests to polars, to get used to its syntax and specificities.\n",
    "\n",
    "Then we will see how we can use pelage to write a meaningful data test, see it fail, then write some simple code, and make it pass.\n"
   ]
  },
  {
   "cell_type": "markdown",
   "id": "68a928fb",
   "metadata": {},
   "source": [
    "# Step 1: From Pandas To Polars\n",
    "\n",
    "![kent-hat](assets/kent-beck-hat.png){width=150}\n"
   ]
  },
  {
   "cell_type": "code",
   "execution_count": 2,
   "id": "57696798",
   "metadata": {},
   "outputs": [],
   "source": [
    "%load_ext autoreload\n",
    "%autoreload 2\n",
    "\n",
    "import pandas as pd\n",
    "import polars as pl\n",
    "\n",
    "from load_data import data_loader\n",
    "\n",
    "emissions_pandas = (\n",
    "    data_loader().filter(pl.col.electric_range_km.is_not_null()).collect().to_pandas()\n",
    ")"
   ]
  },
  {
   "cell_type": "code",
   "execution_count": 3,
   "id": "dff96578",
   "metadata": {},
   "outputs": [],
   "source": [
    "%load_ext notifier"
   ]
  },
  {
   "cell_type": "code",
   "execution_count": 4,
   "id": "3309fcbe",
   "metadata": {},
   "outputs": [
    {
     "name": "stderr",
     "output_type": "stream",
     "text": [
      "/var/folders/2g/4rqt0vfd0h757s25sf3sw0_40000gp/T/ipykernel_85023/1835767098.py:3: SettingWithCopyWarning: \n",
      "A value is trying to be set on a copy of a slice from a DataFrame\n",
      "\n",
      "See the caveats in the documentation: https://pandas.pydata.org/pandas-docs/stable/user_guide/indexing.html#returning-a-view-versus-a-copy\n",
      "  df.drop([\"obfcm_data_source\", \"registered_category\"], axis=1, inplace=True)\n",
      "/var/folders/2g/4rqt0vfd0h757s25sf3sw0_40000gp/T/ipykernel_85023/1835767098.py:5: SettingWithCopyWarning: \n",
      "A value is trying to be set on a copy of a slice from a DataFrame.\n",
      "Try using .loc[row_indexer,col_indexer] = value instead\n",
      "\n",
      "See the caveats in the documentation: https://pandas.pydata.org/pandas-docs/stable/user_guide/indexing.html#returning-a-view-versus-a-copy\n",
      "  df[df[\"fuel_type\"] == \"PETROL\"][\"fuel_type\"] = \"petrol\"\n",
      "/var/folders/2g/4rqt0vfd0h757s25sf3sw0_40000gp/T/ipykernel_85023/1835767098.py:6: SettingWithCopyWarning: \n",
      "A value is trying to be set on a copy of a slice from a DataFrame.\n",
      "Try using .loc[row_indexer,col_indexer] = value instead\n",
      "\n",
      "See the caveats in the documentation: https://pandas.pydata.org/pandas-docs/stable/user_guide/indexing.html#returning-a-view-versus-a-copy\n",
      "  df[\"fuel_consumption_per_100km\"] = df[\"fuel_consumption\"] * 100\n"
     ]
    }
   ],
   "source": [
    "\n",
    "df = emissions_pandas\n",
    "df = df.dropna(subset=[\"fuel_consumption\"])\n",
    "df.drop([\"obfcm_data_source\", \"registered_category\"], axis=1, inplace=True)\n",
    "\n",
    "df[df[\"fuel_type\"] == \"PETROL\"][\"fuel_type\"] = \"petrol\"\n",
    "df[\"fuel_consumption_per_100km\"] = df[\"fuel_consumption\"] * 100\n",
    "\n",
    "grouped = []\n",
    "for manufacturer in df[\"manufacturer_name\"].unique():\n",
    "    manuf_df = df[df[\"manufacturer_name\"] == manufacturer]\n",
    "    for year in df[\"year\"].unique():\n",
    "        subset_df = manuf_df[(manuf_df[\"year\"] == year)]\n",
    "        result = {\"manufacturer_name\": manufacturer,\n",
    "            \"year\": year,\n",
    "            \"mean_fuel_consumption\": subset_df[\"fuel_consumption_per_100km\"].mean(), \"mean_electric_range\": subset_df[\"electric_range_km\"].mean(), \"vehicle_count\": subset_df[\"vehicle_id\"].nunique(),\n",
    "        }\n",
    "        grouped.append(result)\n",
    "\n",
    "grouped = pd.DataFrame(grouped)\n",
    "grouped = grouped.dropna()\n",
    "grouped = grouped.sort_values([\"mean_fuel_consumption\", \"year\"], ascending=False)\n",
    "grouped = grouped[grouped[\"vehicle_count\"] >= 100]\n",
    "grouped = grouped.reset_index(drop=True)\n"
   ]
  },
  {
   "cell_type": "markdown",
   "id": "f9332ca9",
   "metadata": {},
   "source": [
    "## Refactoring\n",
    "\n"
   ]
  },
  {
   "cell_type": "code",
   "execution_count": 6,
   "id": "fd1e6839",
   "metadata": {},
   "outputs": [],
   "source": [
    "main_yearly_emissions_per_manufacturer = (\n",
    "    emissions_pandas.dropna(subset=[\"fuel_consumption\"])\n",
    "    .drop([\"obfcm_data_source\", \"registered_category\"], axis=1)\n",
    "    .assign(\n",
    "        fuel_type=lambda df: df[\"fuel_type\"].replace({\"PETROL\": \"petrol\"}),\n",
    "        fuel_consumption_per_100km=lambda df: df[\"fuel_consumption\"] * 100,\n",
    "    )\n",
    "    .groupby([\"manufacturer_name\", \"year\"])\n",
    "    .agg(\n",
    "        mean_fuel_consumption=(\"fuel_consumption_per_100km\", \"mean\"),\n",
    "        mean_electric_range=(\"electric_range_km\", \"mean\"),\n",
    "        vehicle_count=(\"vehicle_id\", \"nunique\"),\n",
    "    )\n",
    "    .reset_index()\n",
    "    .sort_values([\"mean_fuel_consumption\", \"year\"], ascending=False)\n",
    "    .loc[lambda df: df[\"vehicle_count\"] >= 100]\n",
    "    .reset_index(drop=True)\n",
    ")\n",
    "\n",
    "emissions_polars = pl.DataFrame(emissions_pandas)\n",
    "\n",
    "main_yearly_emissions_per_manufacturer = (\n",
    "    emissions_polars.drop_nulls(subset=[\"fuel_consumption\"])\n",
    "    .drop([\"obfcm_data_source\", \"registered_category\"])\n",
    "    .with_columns(\n",
    "        fuel_type=pl.col.fuel_type.replace({\"PETROL\": \"petrol\"}),\n",
    "        fuel_consumption_per_100km=pl.col.fuel_consumption * 100,\n",
    "    )\n",
    "    .group_by(\"manufacturer_name\", \"year\")\n",
    "    .agg(\n",
    "        mean_fuel_consumption=pl.col.fuel_consumption_per_100km.mean(),\n",
    "        mean_electric_range=pl.col.electric_range_km.mean(),\n",
    "        vehicle_count=pl.col.vehicle_id.n_unique().cast(pl.Int64),\n",
    "    )\n",
    "    .sort([\"mean_fuel_consumption\", \"year\"], descending=True)\n",
    "    .filter(pl.col.vehicle_count >= 100)\n",
    ")"
   ]
  },
  {
   "cell_type": "markdown",
   "id": "7fc7825d",
   "metadata": {},
   "source": [
    "# But What About TDD?\n",
    "\n",
    "## This is Kent Beck:\n",
    "\n",
    "![alt text](assets/kent_beck.png){width=300}\n",
    "\n",
    "- ##### Kent coined the term TDD\n",
    "- ##### Kent created one of the first testing frameworks\n",
    "- ##### Kent found that a testing framework should be written in the same language as the code\n",
    "- ##### Kent say that TDD reduces developer anxiety (Better than Xanax!)\n",
    "- ##### Kent has usually good ideas about software development\n"
   ]
  },
  {
   "cell_type": "code",
   "execution_count": null,
   "id": "8b68b24a",
   "metadata": {},
   "outputs": [],
   "source": []
  },
  {
   "cell_type": "markdown",
   "id": "f372dc5c",
   "metadata": {},
   "source": [
    "## Enters `Pelage`\n",
    "\n",
    "##### A testing framework to be used with polars to express data science tests clearly and easily.\n",
    "\n",
    "##### Pass a dataframe to a testing function:\n",
    "\n",
    "- ##### If it fails you get a nice descriptive error message!\n",
    "- ##### If it passes, you get your dataframe back!\n"
   ]
  },
  {
   "cell_type": "markdown",
   "id": "ca947496",
   "metadata": {},
   "source": [
    "## Step 2: Now Let's Do Some Real Tdd In Polars!\n"
   ]
  },
  {
   "cell_type": "code",
   "execution_count": 7,
   "id": "b4fbb6c4",
   "metadata": {},
   "outputs": [],
   "source": [
    "emissions_for_tdd = (\n",
    "    data_loader().filter(pl.col.electric_range_km.is_not_null()).collect()\n",
    ")"
   ]
  },
  {
   "cell_type": "markdown",
   "id": "f856c30f",
   "metadata": {},
   "source": [
    "## TDD With Polars and Pelage\n"
   ]
  },
  {
   "cell_type": "code",
   "execution_count": 8,
   "id": "01c71fad",
   "metadata": {},
   "outputs": [
    {
     "data": {
      "text/html": [
       "<div><style>\n",
       ".dataframe > thead > tr,\n",
       ".dataframe > tbody > tr {\n",
       "  text-align: right;\n",
       "  white-space: pre-wrap;\n",
       "}\n",
       "</style>\n",
       "<small>shape: (995_356, 24)</small><table border=\"1\" class=\"dataframe\"><thead><tr><th>vehicle_id</th><th>obfcm_data_source</th><th>reporting_period</th><th>used_in_calculation</th><th>country</th><th>manufacturer_name</th><th>model_type</th><th>model_variant</th><th>license_plate</th><th>brand_name</th><th>commercial_name</th><th>registered_category</th><th>ewltp_g_per_km</th><th>fuel_type</th><th>fuel_mode</th><th>year</th><th>fuel_consumption</th><th>electric_consumption_wh_per_km</th><th>electric_range_km</th><th>engine_capacity_cm3</th><th>engine_power_kw</th><th>mass_kg</th><th>total_fuel_consumed_l</th><th>total_distance_travelled_km</th></tr><tr><td>i64</td><td>str</td><td>i64</td><td>bool</td><td>str</td><td>str</td><td>str</td><td>str</td><td>str</td><td>str</td><td>str</td><td>str</td><td>f64</td><td>str</td><td>str</td><td>i64</td><td>f64</td><td>f64</td><td>f64</td><td>f64</td><td>f64</td><td>f64</td><td>f64</td><td>f64</td></tr></thead><tbody><tr><td>12718530</td><td>&quot;OEM&quot;</td><td>2023</td><td>false</td><td>&quot;IT&quot;</td><td>&quot;STELLANTIS EUROPE&quot;</td><td>&quot;MP&quot;</td><td>&quot;JHPFP&quot;</td><td>&quot;MN1BBH1&quot;</td><td>&quot;JEEP&quot;</td><td>&quot;COMPASS&quot;</td><td>&quot;M1G&quot;</td><td>45.0</td><td>&quot;petrol/electric&quot;</td><td>&quot;P&quot;</td><td>2022</td><td>1.9</td><td>163.0</td><td>48.0</td><td>1332.0</td><td>132.0</td><td>1935.0</td><td>0.2</td><td>0.0</td></tr><tr><td>7190988</td><td>&quot;MS&quot;</td><td>2023</td><td>true</td><td>&quot;SE&quot;</td><td>&quot;STELLANTIS EUROPE&quot;</td><td>&quot;MP&quot;</td><td>&quot;JHPFP&quot;</td><td>&quot;MN1BBH1&quot;</td><td>&quot;JEEP&quot;</td><td>&quot;COMPASS&quot;</td><td>&quot;M1G&quot;</td><td>45.0</td><td>&quot;petrol/electric&quot;</td><td>&quot;P&quot;</td><td>2022</td><td>1.9</td><td>162.0</td><td>48.0</td><td>1332.0</td><td>132.0</td><td>1935.0</td><td>1043.36</td><td>12483.0</td></tr><tr><td>6051896</td><td>&quot;OEM&quot;</td><td>2023</td><td>true</td><td>&quot;ES&quot;</td><td>&quot;STELLANTIS EUROPE&quot;</td><td>&quot;MP&quot;</td><td>&quot;JHPFP&quot;</td><td>&quot;ML1BBH1&quot;</td><td>&quot;JEEP&quot;</td><td>&quot;COMPASS&quot;</td><td>&quot;M1G&quot;</td><td>45.0</td><td>&quot;petrol/electric&quot;</td><td>&quot;P&quot;</td><td>2022</td><td>1.9</td><td>166.0</td><td>47.0</td><td>1332.0</td><td>96.0</td><td>1935.0</td><td>115.0</td><td>3789.0</td></tr><tr><td>12713671</td><td>&quot;OEM&quot;</td><td>2023</td><td>true</td><td>&quot;IT&quot;</td><td>&quot;STELLANTIS EUROPE&quot;</td><td>&quot;MP&quot;</td><td>&quot;JHPFP&quot;</td><td>&quot;ML1BBH1&quot;</td><td>&quot;JEEP&quot;</td><td>&quot;COMPASS&quot;</td><td>&quot;M1G&quot;</td><td>45.0</td><td>&quot;petrol/electric&quot;</td><td>&quot;P&quot;</td><td>2022</td><td>1.9</td><td>166.0</td><td>47.0</td><td>1332.0</td><td>96.0</td><td>1935.0</td><td>3410.8</td><td>49094.0</td></tr><tr><td>12718724</td><td>&quot;OEM&quot;</td><td>2023</td><td>true</td><td>&quot;IT&quot;</td><td>&quot;STELLANTIS EUROPE&quot;</td><td>&quot;MP&quot;</td><td>&quot;JHPFP&quot;</td><td>&quot;ML1BBH1&quot;</td><td>&quot;JEEP&quot;</td><td>&quot;COMPASS&quot;</td><td>&quot;M1G&quot;</td><td>45.0</td><td>&quot;petrol/electric&quot;</td><td>&quot;P&quot;</td><td>2022</td><td>1.9</td><td>166.0</td><td>47.0</td><td>1332.0</td><td>96.0</td><td>1935.0</td><td>325.7</td><td>5313.0</td></tr><tr><td>&hellip;</td><td>&hellip;</td><td>&hellip;</td><td>&hellip;</td><td>&hellip;</td><td>&hellip;</td><td>&hellip;</td><td>&hellip;</td><td>&hellip;</td><td>&hellip;</td><td>&hellip;</td><td>&hellip;</td><td>&hellip;</td><td>&hellip;</td><td>&hellip;</td><td>&hellip;</td><td>&hellip;</td><td>&hellip;</td><td>&hellip;</td><td>&hellip;</td><td>&hellip;</td><td>&hellip;</td><td>&hellip;</td><td>&hellip;</td></tr><tr><td>699643</td><td>&quot;OEM&quot;</td><td>2023</td><td>true</td><td>&quot;PL&quot;</td><td>&quot;MERCEDES-BENZ AG&quot;</td><td>&quot;204 X&quot;</td><td>&quot;R81IT1&quot;</td><td>&quot;CZAA051A&quot;</td><td>&quot;MERCEDES-BENZ&quot;</td><td>&quot;GLC 300 DE 4MATIC&quot;</td><td>&quot;M1&quot;</td><td>54.0</td><td>&quot;diesel/electric&quot;</td><td>&quot;P&quot;</td><td>2021</td><td>2.0</td><td>281.0</td><td>42.0</td><td>1950.0</td><td>143.0</td><td>2135.0</td><td>1276.04</td><td>27013.7</td></tr><tr><td>4712170</td><td>&quot;OEM&quot;</td><td>2023</td><td>true</td><td>&quot;BE&quot;</td><td>&quot;MERCEDES-BENZ AG&quot;</td><td>&quot;204 X&quot;</td><td>&quot;R81IT1&quot;</td><td>&quot;CZAA05BB&quot;</td><td>&quot;MERCEDES-BENZ&quot;</td><td>&quot;GLC 300 DE 4MATIC&quot;</td><td>&quot;M1&quot;</td><td>52.0</td><td>&quot;diesel/electric&quot;</td><td>&quot;P&quot;</td><td>2021</td><td>2.0</td><td>257.0</td><td>42.0</td><td>1950.0</td><td>143.0</td><td>2135.0</td><td>4949.28</td><td>85724.2</td></tr><tr><td>4759155</td><td>&quot;OEM&quot;</td><td>2023</td><td>true</td><td>&quot;DE&quot;</td><td>&quot;MERCEDES-BENZ AG&quot;</td><td>&quot;204 X&quot;</td><td>&quot;R81IT1&quot;</td><td>&quot;CZAA05BB&quot;</td><td>&quot;MERCEDES-BENZ&quot;</td><td>&quot;GLC 300 DE 4MATIC&quot;</td><td>&quot;M1&quot;</td><td>55.0</td><td>&quot;diesel/electric&quot;</td><td>&quot;P&quot;</td><td>2021</td><td>2.1</td><td>264.0</td><td>41.0</td><td>1950.0</td><td>143.0</td><td>2135.0</td><td>5575.46</td><td>67522.9</td></tr><tr><td>185753</td><td>&quot;OEM&quot;</td><td>2023</td><td>true</td><td>&quot;IT&quot;</td><td>&quot;VOLVO&quot;</td><td>&quot;X&quot;</td><td>&quot;XZBW&quot;</td><td>&quot;XZBWVF0&quot;</td><td>&quot;VOLVO&quot;</td><td>&quot;XC40&quot;</td><td>&quot;M1&quot;</td><td>47.0</td><td>&quot;petrol/electric&quot;</td><td>&quot;P&quot;</td><td>2021</td><td>null</td><td>152.0</td><td>45.0</td><td>1477.0</td><td>95.0</td><td>1812.0</td><td>433.0</td><td>17254.0</td></tr><tr><td>9130647</td><td>&quot;OEM&quot;</td><td>2023</td><td>true</td><td>&quot;BE&quot;</td><td>&quot;MERCEDES-BENZ AG&quot;</td><td>&quot;204 X&quot;</td><td>&quot;R81IT1&quot;</td><td>&quot;CZAA050A&quot;</td><td>&quot;MERCEDES-BENZ&quot;</td><td>&quot;GLC 300 DE 4MATIC&quot;</td><td>&quot;M1&quot;</td><td>50.0</td><td>&quot;diesel/electric&quot;</td><td>&quot;P&quot;</td><td>2021</td><td>1.9</td><td>252.0</td><td>43.0</td><td>1950.0</td><td>143.0</td><td>2135.0</td><td>1711.42</td><td>22401.1</td></tr></tbody></table></div>"
      ],
      "text/plain": [
       "shape: (995_356, 24)\n",
       "┌────────────┬───────────┬───────────┬───────────┬───┬───────────┬─────────┬───────────┬───────────┐\n",
       "│ vehicle_id ┆ obfcm_dat ┆ reporting ┆ used_in_c ┆ … ┆ engine_po ┆ mass_kg ┆ total_fue ┆ total_dis │\n",
       "│ ---        ┆ a_source  ┆ _period   ┆ alculatio ┆   ┆ wer_kw    ┆ ---     ┆ l_consume ┆ tance_tra │\n",
       "│ i64        ┆ ---       ┆ ---       ┆ n         ┆   ┆ ---       ┆ f64     ┆ d_l       ┆ velled_km │\n",
       "│            ┆ str       ┆ i64       ┆ ---       ┆   ┆ f64       ┆         ┆ ---       ┆ ---       │\n",
       "│            ┆           ┆           ┆ bool      ┆   ┆           ┆         ┆ f64       ┆ f64       │\n",
       "╞════════════╪═══════════╪═══════════╪═══════════╪═══╪═══════════╪═════════╪═══════════╪═══════════╡\n",
       "│ 12718530   ┆ OEM       ┆ 2023      ┆ false     ┆ … ┆ 132.0     ┆ 1935.0  ┆ 0.2       ┆ 0.0       │\n",
       "│ 7190988    ┆ MS        ┆ 2023      ┆ true      ┆ … ┆ 132.0     ┆ 1935.0  ┆ 1043.36   ┆ 12483.0   │\n",
       "│ 6051896    ┆ OEM       ┆ 2023      ┆ true      ┆ … ┆ 96.0      ┆ 1935.0  ┆ 115.0     ┆ 3789.0    │\n",
       "│ 12713671   ┆ OEM       ┆ 2023      ┆ true      ┆ … ┆ 96.0      ┆ 1935.0  ┆ 3410.8    ┆ 49094.0   │\n",
       "│ 12718724   ┆ OEM       ┆ 2023      ┆ true      ┆ … ┆ 96.0      ┆ 1935.0  ┆ 325.7     ┆ 5313.0    │\n",
       "│ …          ┆ …         ┆ …         ┆ …         ┆ … ┆ …         ┆ …       ┆ …         ┆ …         │\n",
       "│ 699643     ┆ OEM       ┆ 2023      ┆ true      ┆ … ┆ 143.0     ┆ 2135.0  ┆ 1276.04   ┆ 27013.7   │\n",
       "│ 4712170    ┆ OEM       ┆ 2023      ┆ true      ┆ … ┆ 143.0     ┆ 2135.0  ┆ 4949.28   ┆ 85724.2   │\n",
       "│ 4759155    ┆ OEM       ┆ 2023      ┆ true      ┆ … ┆ 143.0     ┆ 2135.0  ┆ 5575.46   ┆ 67522.9   │\n",
       "│ 185753     ┆ OEM       ┆ 2023      ┆ true      ┆ … ┆ 95.0      ┆ 1812.0  ┆ 433.0     ┆ 17254.0   │\n",
       "│ 9130647    ┆ OEM       ┆ 2023      ┆ true      ┆ … ┆ 143.0     ┆ 2135.0  ┆ 1711.42   ┆ 22401.1   │\n",
       "└────────────┴───────────┴───────────┴───────────┴───┴───────────┴─────────┴───────────┴───────────┘"
      ]
     },
     "execution_count": 8,
     "metadata": {},
     "output_type": "execute_result"
    }
   ],
   "source": [
    "import pelage as plg\n",
    "\n",
    "primary_key_columns = [\n",
    "    \"vehicle_id\",\n",
    "    \"reporting_period\",\n",
    "    \"obfcm_data_source\",\n",
    "    \"used_in_calculation\",\n",
    "]\n",
    "(\n",
    "    emissions_for_tdd.drop_nulls(subset=[\"model_variant\", \"license_plate\"])\n",
    "    .with_columns(pl.col.fuel_type.str.to_lowercase())\n",
    "    .filter(pl.col.fuel_type.is_in([\"diesel\", \"petrol\"]).not_())\n",
    "    .cast({\"used_in_calculation\": pl.Boolean})\n",
    "    .filter(pl.len().over(primary_key_columns) == 1)\n",
    "    .pipe(plg.accepted_range, {\"mass_kg\": (1000, 3000), \"engine_power_kw\": (25, 600)})\n",
    "    .pipe(\n",
    "        plg.has_no_nulls,\n",
    "        [\n",
    "            \"country\",\n",
    "            \"manufacturer_name\",\n",
    "            \"model_type\",\n",
    "            \"model_variant\",\n",
    "            \"license_plate\",\n",
    "            \"brand_name\",\n",
    "            *primary_key_columns,\n",
    "        ],\n",
    "    )\n",
    "    .pipe(plg.custom_check, pl.col.fuel_type.str.contains(r\"[A-Z]\").not_())\n",
    "    .pipe(\n",
    "        plg.unique_combination_of_columns,\n",
    "        primary_key_columns,\n",
    "    )\n",
    "    .pipe(plg.not_accepted_values, {\"fuel_type\": [\"diesel\", \"petrol\"]})\n",
    "    .pipe(plg.has_dtypes, {\"used_in_calculation\": pl.Boolean})\n",
    ")"
   ]
  },
  {
   "cell_type": "markdown",
   "id": "8d6bc1d6",
   "metadata": {},
   "source": [
    "## TDD With Polars And Pelage (part 2)\n"
   ]
  },
  {
   "cell_type": "code",
   "execution_count": 13,
   "id": "c5086839",
   "metadata": {},
   "outputs": [
    {
     "data": {
      "text/html": [
       "<div><style>\n",
       ".dataframe > thead > tr,\n",
       ".dataframe > tbody > tr {\n",
       "  text-align: right;\n",
       "  white-space: pre-wrap;\n",
       "}\n",
       "</style>\n",
       "<small>shape: (431_875, 6)</small><table border=\"1\" class=\"dataframe\"><thead><tr><th>zone</th><th>subzone</th><th>timestamp</th><th>stock_value_min</th><th>stock_value_max</th><th>date</th></tr><tr><td>str</td><td>str</td><td>datetime[ms]</td><td>i64</td><td>i64</td><td>date</td></tr></thead><tbody><tr><td>&quot;zone_01&quot;</td><td>&quot;subzone_a&quot;</td><td>2025-04-04 19:00:00</td><td>17</td><td>17</td><td>2025-04-04</td></tr><tr><td>&quot;zone_01&quot;</td><td>&quot;subzone_a&quot;</td><td>2025-04-04 19:10:00</td><td>16</td><td>16</td><td>2025-04-04</td></tr><tr><td>&quot;zone_01&quot;</td><td>&quot;subzone_a&quot;</td><td>2025-04-04 20:30:00</td><td>11</td><td>15</td><td>2025-04-04</td></tr><tr><td>&quot;zone_01&quot;</td><td>&quot;subzone_a&quot;</td><td>2025-04-04 20:40:00</td><td>10</td><td>10</td><td>2025-04-04</td></tr><tr><td>&quot;zone_01&quot;</td><td>&quot;subzone_a&quot;</td><td>2025-04-04 21:30:00</td><td>8</td><td>9</td><td>2025-04-04</td></tr><tr><td>&hellip;</td><td>&hellip;</td><td>&hellip;</td><td>&hellip;</td><td>&hellip;</td><td>&hellip;</td></tr><tr><td>&quot;zone_63&quot;</td><td>&quot;subzone_c&quot;</td><td>2025-05-29 22:40:00</td><td>7</td><td>8</td><td>2025-05-29</td></tr><tr><td>&quot;zone_63&quot;</td><td>&quot;subzone_c&quot;</td><td>2025-05-29 22:50:00</td><td>6</td><td>8</td><td>2025-05-29</td></tr><tr><td>&quot;zone_63&quot;</td><td>&quot;subzone_c&quot;</td><td>2025-05-29 23:20:00</td><td>7</td><td>7</td><td>2025-05-29</td></tr><tr><td>&quot;zone_63&quot;</td><td>&quot;subzone_c&quot;</td><td>2025-05-29 23:30:00</td><td>7</td><td>8</td><td>2025-05-29</td></tr><tr><td>&quot;zone_63&quot;</td><td>&quot;subzone_c&quot;</td><td>2025-05-29 23:40:00</td><td>6</td><td>8</td><td>2025-05-29</td></tr></tbody></table></div>"
      ],
      "text/plain": [
       "shape: (431_875, 6)\n",
       "┌─────────┬───────────┬─────────────────────┬─────────────────┬─────────────────┬────────────┐\n",
       "│ zone    ┆ subzone   ┆ timestamp           ┆ stock_value_min ┆ stock_value_max ┆ date       │\n",
       "│ ---     ┆ ---       ┆ ---                 ┆ ---             ┆ ---             ┆ ---        │\n",
       "│ str     ┆ str       ┆ datetime[ms]        ┆ i64             ┆ i64             ┆ date       │\n",
       "╞═════════╪═══════════╪═════════════════════╪═════════════════╪═════════════════╪════════════╡\n",
       "│ zone_01 ┆ subzone_a ┆ 2025-04-04 19:00:00 ┆ 17              ┆ 17              ┆ 2025-04-04 │\n",
       "│ zone_01 ┆ subzone_a ┆ 2025-04-04 19:10:00 ┆ 16              ┆ 16              ┆ 2025-04-04 │\n",
       "│ zone_01 ┆ subzone_a ┆ 2025-04-04 20:30:00 ┆ 11              ┆ 15              ┆ 2025-04-04 │\n",
       "│ zone_01 ┆ subzone_a ┆ 2025-04-04 20:40:00 ┆ 10              ┆ 10              ┆ 2025-04-04 │\n",
       "│ zone_01 ┆ subzone_a ┆ 2025-04-04 21:30:00 ┆ 8               ┆ 9               ┆ 2025-04-04 │\n",
       "│ …       ┆ …         ┆ …                   ┆ …               ┆ …               ┆ …          │\n",
       "│ zone_63 ┆ subzone_c ┆ 2025-05-29 22:40:00 ┆ 7               ┆ 8               ┆ 2025-05-29 │\n",
       "│ zone_63 ┆ subzone_c ┆ 2025-05-29 22:50:00 ┆ 6               ┆ 8               ┆ 2025-05-29 │\n",
       "│ zone_63 ┆ subzone_c ┆ 2025-05-29 23:20:00 ┆ 7               ┆ 7               ┆ 2025-05-29 │\n",
       "│ zone_63 ┆ subzone_c ┆ 2025-05-29 23:30:00 ┆ 7               ┆ 8               ┆ 2025-05-29 │\n",
       "│ zone_63 ┆ subzone_c ┆ 2025-05-29 23:40:00 ┆ 6               ┆ 8               ┆ 2025-05-29 │\n",
       "└─────────┴───────────┴─────────────────────┴─────────────────┴─────────────────┴────────────┘"
      ]
     },
     "execution_count": 13,
     "metadata": {},
     "output_type": "execute_result"
    }
   ],
   "source": [
    "loaded_stocks = pl.read_parquet(\"data/stocks.parquet\")\n",
    "full_stocks_by_10min = (\n",
    "    loaded_stocks\n",
    "    .filter(\n",
    "        (\n",
    "            pl.col.zone.is_in([\"zone_28\", \"zone_29\", \"zone_17\"])\n",
    "            & (pl.col.subzone == \"subzone_a\")\n",
    "        ).not_()\n",
    "    )\n",
    "    .with_columns(\n",
    "        pl.col.timestamp.str.to_datetime(time_unit=\"ms\").dt.truncate(\"10m\"),\n",
    "        pl.col.stock_value.clip(0, None),\n",
    "    )\n",
    "    .group_by(\"zone\", \"subzone\", \"timestamp\")\n",
    "    .agg(\n",
    "        pl.col.stock_value.min().name.suffix(\"_min\"),\n",
    "        pl.col.stock_value.max().name.suffix(\"_max\"),\n",
    "    )\n",
    "    .with_columns(\n",
    "        date=pl.col.timestamp.dt.date(),\n",
    "    )\n",
    "    .filter(pl.len().over(\"zone\", \"subzone\", \"date\") > 1)\n",
    "    .sort(\"zone\", \"subzone\", \"timestamp\")\n",
    "    .pipe(plg.has_dtypes, {\"timestamp\": pl.Datetime(time_unit=\"ms\")})\n",
    "    .pipe(plg.has_no_nulls)\n",
    "    .pipe(plg.is_monotonic, \"timestamp\", strict=True, group_by=[\"zone\", \"subzone\"])\n",
    "    .pipe(plg.unique_combination_of_columns, [\"zone\", \"subzone\", \"timestamp\"])\n",
    "    .pipe(\n",
    "        plg.accepted_range, {\"stock_value_min\": (0, None), \"stock_value_max\": (0, None)}\n",
    "    )\n",
    "    .pipe(\n",
    "        plg.custom_check,\n",
    "        (\n",
    "            pl.col.zone.is_in([\"zone_28\", \"zone_29\", \"zone_17\"])\n",
    "            & (pl.col.subzone == \"subzone_a\")\n",
    "        ).not_(),\n",
    "    )\n",
    "    .pipe(plg.not_constant, columns=\"timestamp\", group_by=[\"zone\", \"subzone\", \"date\"])\n",
    ")\n",
    "full_stocks_by_10min\n"
   ]
  },
  {
   "cell_type": "markdown",
   "id": "fc2fa600",
   "metadata": {},
   "source": [
    "# Conclusion\n",
    "\n",
    "#### Method Chaining: From horrible slow-performing pandas to good, easy-to-read pandas code.\n",
    "\n",
    "#### Translation to polars becomes easy: A good equivalence test + `.pipe(pl.DataFrame)` + you shift this up!\n",
    "\n",
    "#### With TDD in data science, we rapidly get larger insights from just a few data-tests as we build up our analysis:\n",
    "\n",
    "- **Being able to express tests in the same manner as your code is a critical part of the TDD workflow.**\n",
    "- **This is already done for your in pelage, the core logic leverages polars (except for processing user inputs).**\n",
    "- **The result: a simple, easy to use package, that allows to write from the start code of great quality that is required for production contexts.**\n",
    "\n",
    "#### All you have to do is:\n",
    "\n",
    "- **❌ Write a failing test!**\n",
    "- **✅ Write some code to make it pass!**\n",
    "- **🔄 Refactor to make it better!**\n"
   ]
  },
  {
   "cell_type": "markdown",
   "id": "bfd47bf2",
   "metadata": {},
   "source": [
    "# And Now?\n",
    "\n",
    "- ### Type `uv add pelage` ( ~~pip install pelage~~, it works but `uv` is better )\n",
    "- ### Got to the website: https://alixtc.github.io/pelage/\n",
    "- ### QR Code for the Presentation\n",
    "  ![](assets/qr_presentation_link.png){width=200}\n",
    "- ### QR Code for my LinkedIn\n",
    "  ![](assets/qr_linkedin_profile.png){width=200}\n"
   ]
  }
 ],
 "metadata": {
  "kernelspec": {
   "display_name": ".venv",
   "language": "python",
   "name": "python3"
  },
  "language_info": {
   "codemirror_mode": {
    "name": "ipython",
    "version": 3
   },
   "file_extension": ".py",
   "mimetype": "text/x-python",
   "name": "python",
   "nbconvert_exporter": "python",
   "pygments_lexer": "ipython3",
   "version": "3.11.12"
  }
 },
 "nbformat": 4,
 "nbformat_minor": 5
}
