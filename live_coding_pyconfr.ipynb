{
 "cells": [
  {
   "cell_type": "markdown",
   "id": "6669b4c7",
   "metadata": {},
   "source": [
    "![](assets/image.png)\n"
   ]
  },
  {
   "cell_type": "markdown",
   "id": "39c7ad8c",
   "metadata": {},
   "source": [
    "My name is Alix Tiran-Cappello, I work as a data scientist / MLOPS pipeline maintainer for Renault Group for my day job.\n",
    "\n",
    "But today I am here on my own, and what I will say today is not associated in any way with my company.\n",
    "\n",
    "The reason I am here is to present to you a small open source package that I created: `pelage` .\n",
    "\n",
    "## My goal:\n",
    "\n",
    "- Import best practices of software engineering around testing\n",
    "- They have demonstrated usefulness to maintain velocity and imbed quality from the start\n",
    "- Help you write better data science code with polars and TDD.\n"
   ]
  },
  {
   "cell_type": "markdown",
   "id": "3b3bc15c",
   "metadata": {},
   "source": [
    "# What is TDD?\n",
    "\n",
    "![alt text](assets/tdd-schema.png){width=500}\n"
   ]
  },
  {
   "cell_type": "markdown",
   "id": "613fa938",
   "metadata": {},
   "source": [
    "We will see it countless times during this talk.\n",
    "\n",
    "Before we can start with TDD, I'd like to guide you through a brief journey:\n",
    "\n",
    "1. Take some pandas code and make it better using refactoring tests.\n",
    "1. Translate it to polars, to get used to polars syntax and specificities.\n",
    "1. use pelage to write a meaningful data test.\n",
    "\n",
    "During this time we will see tests fail, then write some simple code, and make them pass.\n"
   ]
  },
  {
   "cell_type": "markdown",
   "id": "68a928fb",
   "metadata": {},
   "source": [
    "# Step 1: From Pandas To Polars\n",
    "\n",
    "![kent-hat](assets/kent-beck-hat.png){width=150}\n"
   ]
  },
  {
   "cell_type": "code",
   "execution_count": null,
   "id": "57696798",
   "metadata": {},
   "outputs": [],
   "source": [
    "%load_ext autoreload\n",
    "%autoreload 2\n",
    "\n",
    "import pandas as pd\n",
    "import polars as pl\n",
    "\n",
    "from load_data import data_loader\n",
    "\n",
    "emissions_pandas = (\n",
    "    data_loader().filter(pl.col.electric_range_km.is_not_null()).collect().to_pandas()\n",
    ")"
   ]
  },
  {
   "cell_type": "code",
   "execution_count": null,
   "id": "dff96578",
   "metadata": {},
   "outputs": [],
   "source": [
    "%load_ext notifier"
   ]
  },
  {
   "cell_type": "code",
   "execution_count": null,
   "id": "3309fcbe",
   "metadata": {},
   "outputs": [],
   "source": [
    "df = emissions_pandas\n",
    "df = df.dropna(subset=[\"fuel_consumption\"])\n",
    "df.drop([\"obfcm_data_source\", \"registered_category\"], axis=1, inplace=True)\n",
    "\n",
    "df[df[\"fuel_type\"] == \"PETROL\"][\"fuel_type\"] = \"petrol\"\n",
    "df[\"fuel_consumption_per_100km\"] = df[\"fuel_consumption\"] * 100\n",
    "\n",
    "grouped = []\n",
    "for manufacturer in df[\"manufacturer_name\"].unique():\n",
    "    manuf_df = df[df[\"manufacturer_name\"] == manufacturer]\n",
    "    for year in df[\"year\"].unique():\n",
    "        subset_df = manuf_df[(manuf_df[\"year\"] == year)]\n",
    "        result = {\n",
    "            \"manufacturer_name\": manufacturer,\n",
    "            \"year\": year,\n",
    "            \"mean_fuel_consumption\": subset_df[\"fuel_consumption_per_100km\"].mean(),\n",
    "            \"mean_electric_range\": subset_df[\"electric_range_km\"].mean(),\n",
    "            \"vehicle_count\": subset_df[\"vehicle_id\"].nunique(),\n",
    "        }\n",
    "        grouped.append(result)\n",
    "\n",
    "grouped = pd.DataFrame(grouped)\n",
    "grouped = grouped.dropna()\n",
    "grouped = grouped.sort_values([\"mean_fuel_consumption\", \"year\"], ascending=False)\n",
    "grouped = grouped[grouped[\"vehicle_count\"] >= 100]\n",
    "grouped = grouped.reset_index(drop=True)"
   ]
  },
  {
   "cell_type": "markdown",
   "id": "f9332ca9",
   "metadata": {},
   "source": [
    "## Refactoring\n"
   ]
  },
  {
   "cell_type": "markdown",
   "id": "7fc7825d",
   "metadata": {},
   "source": [
    "# But What About TDD?\n",
    "\n",
    "## This is Kent Beck:\n",
    "\n",
    "![alt text](assets/kent_beck.png){width=300}\n",
    "\n",
    "- ##### Kent coined the term TDD\n",
    "- ##### Kent created one of the first testing frameworks\n",
    "- ##### Kent found that a testing framework should be written in the same language as the code\n",
    "- ##### Kent say that TDD reduces developer anxiety (Better than Xanax!)\n",
    "- ##### Kent has usually good ideas about software development\n"
   ]
  },
  {
   "cell_type": "code",
   "execution_count": null,
   "id": "8b68b24a",
   "metadata": {},
   "outputs": [],
   "source": []
  },
  {
   "cell_type": "markdown",
   "id": "f372dc5c",
   "metadata": {},
   "source": [
    "## Enters `Pelage`\n",
    "\n",
    "##### A testing framework to be used with polars to express data science tests clearly and easily.\n",
    "\n",
    "##### Pass a dataframe to a testing function:\n",
    "\n",
    "- ##### If it fails you get a nice descriptive error message!\n",
    "- ##### If it passes, you get your dataframe back!\n"
   ]
  },
  {
   "cell_type": "markdown",
   "id": "ca947496",
   "metadata": {},
   "source": [
    "## Step 2: Now Let's Do Some Real Tdd In Polars!\n"
   ]
  },
  {
   "cell_type": "code",
   "execution_count": null,
   "id": "b4fbb6c4",
   "metadata": {},
   "outputs": [],
   "source": [
    "emissions_for_tdd = (\n",
    "    data_loader().filter(pl.col.electric_range_km.is_not_null()).collect()\n",
    ")"
   ]
  },
  {
   "cell_type": "markdown",
   "id": "f856c30f",
   "metadata": {},
   "source": [
    "## TDD With Polars and Pelage\n"
   ]
  },
  {
   "cell_type": "code",
   "execution_count": null,
   "id": "01c71fad",
   "metadata": {},
   "outputs": [],
   "source": [
    "import pelage as ...\n",
    "\n",
    "primary_key_columns = [\n",
    "    \"vehicle_id\",\n",
    "    \"reporting_period\",\n",
    "    \"obfcm_data_source\",\n",
    "    \"used_in_calculation\",\n",
    "]\n",
    "(\n",
    "    emissions_for_tdd\n",
    ")"
   ]
  },
  {
   "cell_type": "markdown",
   "id": "8d6bc1d6",
   "metadata": {},
   "source": [
    "## TDD With Polars And Pelage (part 2)\n"
   ]
  },
  {
   "cell_type": "markdown",
   "id": "fc2fa600",
   "metadata": {},
   "source": [
    "# Conclusion\n",
    "\n",
    "#### Method Chaining: From horrible slow-performing pandas to good, easy-to-read pandas code.\n",
    "\n",
    "#### Easy Translation to polars: A good equivalence test + `.pipe(pl.DataFrame)` + you shift this up!\n",
    "\n",
    "#### With TDD in data science, we rapidly get larger insights from just a few data-tests as we build up our analysis:\n",
    "\n",
    "- **Being able to express tests in the same manner as your code is a critical part of the TDD workflow.**\n",
    "\n",
    "- **This is already done for your in pelage, the core logic leverages polars**\n",
    "\n",
    "- **The result: a simple, easy to use package, to write code of great quality that is required for production contexts.**\n",
    "\n",
    "#### All you have to do is:\n",
    "\n",
    "- **❌ Write a failing test!**\n",
    "\n",
    "- **✅ Write some code to make it pass!**\n",
    "\n",
    "- **🔄 Refactor to make it better!**\n"
   ]
  },
  {
   "cell_type": "markdown",
   "id": "bfd47bf2",
   "metadata": {},
   "source": [
    "# And Now?\n",
    "\n",
    "- ### Type `uv add pelage` ( ~~pip install pelage~~, it works but `uv` is better )\n",
    "- ### Got to the website: https://alixtc.github.io/pelage/\n",
    "- ### QR Code for the Presentation\n",
    "  ![](assets/qr_presentation_link.png){width=200}\n",
    "- ### QR Code for my LinkedIn\n",
    "  ![](assets/qr_linkedin_profile.png){width=200}\n"
   ]
  }
 ],
 "metadata": {
  "kernelspec": {
   "display_name": ".venv",
   "language": "python",
   "name": "python3"
  },
  "language_info": {
   "codemirror_mode": {
    "name": "ipython",
    "version": 3
   },
   "file_extension": ".py",
   "mimetype": "text/x-python",
   "name": "python",
   "nbconvert_exporter": "python",
   "pygments_lexer": "ipython3",
   "version": "3.11.12"
  }
 },
 "nbformat": 4,
 "nbformat_minor": 5
}
