{
 "cells": [
  {
   "cell_type": "code",
   "execution_count": null,
   "id": "57696798",
   "metadata": {},
   "outputs": [],
   "source": [
    "import polars as pl\n",
    "import pelage as plg"
   ]
  },
  {
   "cell_type": "code",
   "execution_count": null,
   "id": "d5c2f4f1",
   "metadata": {},
   "outputs": [],
   "source": [
    "%load_ext notifier"
   ]
  },
  {
   "cell_type": "code",
   "execution_count": null,
   "id": "e33eabb6",
   "metadata": {},
   "outputs": [],
   "source": [
    "a = pl.DataFrame({\"a\": [1, 2, 3]}).pipe(plg.accepted_values, {\"a\": [1, 2, 3]})"
   ]
  },
  {
   "cell_type": "code",
   "execution_count": null,
   "id": "ac9de60c",
   "metadata": {},
   "outputs": [],
   "source": [
    "raise ValueError()"
   ]
  },
  {
   "cell_type": "code",
   "execution_count": null,
   "id": "1902acee",
   "metadata": {},
   "outputs": [],
   "source": []
  }
 ],
 "metadata": {
  "kernelspec": {
   "display_name": ".venv",
   "language": "python",
   "name": "python3"
  },
  "language_info": {
   "codemirror_mode": {
    "name": "ipython",
    "version": 3
   },
   "file_extension": ".py",
   "mimetype": "text/x-python",
   "name": "python",
   "nbconvert_exporter": "python",
   "pygments_lexer": "ipython3",
   "version": "3.12.10"
  }
 },
 "nbformat": 4,
 "nbformat_minor": 5
}
