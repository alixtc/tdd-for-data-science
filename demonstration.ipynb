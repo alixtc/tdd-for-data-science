{
 "cells": [
  {
   "cell_type": "code",
   "execution_count": null,
   "id": "57696798",
   "metadata": {},
   "outputs": [],
   "source": [
    "import pandas as pd\n",
    "import polars as pl\n",
    "\n",
    "import load_data\n",
    "\n",
    "emissions = load_data.data_loader()"
   ]
  },
  {
   "cell_type": "code",
   "execution_count": null,
   "id": "c0c1b93b",
   "metadata": {},
   "outputs": [],
   "source": [
    "emissions.select(pl.col.country.unique()).collect()"
   ]
  },
  {
   "cell_type": "code",
   "execution_count": null,
   "id": "3309fcbe",
   "metadata": {},
   "outputs": [],
   "source": [
    "df = emissions.collect().to_pandas()\n",
    "df = df[~df[\"country\"].isin([\"RO\", \"LT\", \"LU\", \"LV\", \"EE\", \"CY\"])]\n",
    "df = df[df[\"electric_range_km\"] < 40]\n",
    "df.drop([\"vehicle_family_number\"], axis=1, inplace=True)\n",
    "df = df.dropna(subset=[\"fuel_consumption\"])\n",
    "df[\"manufacturer_name\"] = df[\"manufacturer_name\"].apply(lambda x: x.replace(\" \", \"-\"))\n",
    "df[\"fuel_consumption_per_100km\"] = df[\"fuel_consumption\"] * 100\n",
    "\n",
    "grouped = []\n",
    "for country in df[\"country\"].unique():\n",
    "    for manufacturer in df[\"manufacturer_name\"].unique():\n",
    "\n",
    "        for year in df[\"year\"].unique():\n",
    "            subset_df = df[\n",
    "                (df[\"year\"] == year)\n",
    "                & (df[\"manufacturer_name\"] == manufacturer)\n",
    "                & (df[\"country\"] == country)\n",
    "            ]\n",
    "            result = {\n",
    "                \"country\": country,\n",
    "                \"manufacturer_name\": manufacturer,\n",
    "                \"year\": year,\n",
    "                \"mean_fuel_consumption\": subset_df[\"fuel_consumption_per_100km\"].mean(),\n",
    "                \"mean_electric_range\": subset_df[\"electric_range_km\"].mean(),\n",
    "                \"vehicle_count\": subset_df.vehicle_id.nunique(),\n",
    "            }\n",
    "            grouped.append(result)\n",
    "\n",
    "grouped = pd.DataFrame(grouped)\n",
    "\n",
    "grouped = grouped.sort_values(\"mean_fuel_consumption\", ascending=False)\n",
    "# Filter for years 2022 and 2023 only\n",
    "grouped = grouped[grouped[\"year\"].isin([2022, 2023])]"
   ]
  },
  {
   "cell_type": "code",
   "execution_count": null,
   "id": "43b1e887",
   "metadata": {},
   "outputs": [],
   "source": [
    "grouped"
   ]
  },
  {
   "cell_type": "code",
   "execution_count": null,
   "id": "460c3094",
   "metadata": {},
   "outputs": [],
   "source": [
    "df = emissions.collect().to_pandas()\n",
    "df = df[~df[\"country\"].isin([\"RO\", \"LT\", \"LU\", \"LV\", \"EE\", \"CY\"])]\n",
    "df.drop([\"vehicle_family_number\"], axis=1, inplace=True)\n",
    "df = df.dropna(subset=[\"fuel_consumption\"])\n",
    "df = df[df[\"electric_range_km\"] < 40]\n",
    "df[\"manufacturer_name\"] = df[\"manufacturer_name\"].apply(lambda x: x.replace(\" \", \"-\"))\n",
    "df[\"fuel_consumption_per_100km\"] = df[\"fuel_consumption\"] * 100\n",
    "grouped = (\n",
    "    df.groupby([\"country\", \"manufacturer_name\", \"year\"])\n",
    "    .agg(\n",
    "        mean_fuel_consumption=(\"fuel_consumption\", \"mean\"),\n",
    "        mean_electric_range=(\"electric_range_km\", \"mean\"),\n",
    "        vehicle_count=(\"vehicle_id\", \"count\"),\n",
    "    )\n",
    "    .reset_index()\n",
    ")\n",
    "grouped = grouped.sort_values(\"mean_fuel_consumption\", ascending=False)\n",
    "\n",
    "grouped = grouped[grouped[\"year\"].isin([2022, 2023])]"
   ]
  },
  {
   "cell_type": "code",
   "execution_count": null,
   "id": "f9332ca9",
   "metadata": {},
   "outputs": [],
   "source": [
    "df = emissions.collect().to_pandas()\n",
    "df = (\n",
    "    df[~df[\"country\"].isin([\"RO\", \"LT\", \"LU\", \"LV\", \"EE\", \"CY\"])]\n",
    "    .drop([\"vehicle_family_number\"], axis=1)\n",
    "    .dropna(subset=[\"fuel_consumption\"])\n",
    "    .loc[lambda df: df[\"electric_range_km\"] < 40]\n",
    "    .assign(\n",
    "        manufacturer_name=lambda df: df[\"manufacturer_name\"].str.replace(\" \", \"-\"),\n",
    "        fuel_consumption_per_100km=lambda df: df[\"fuel_consumption\"] * 100,\n",
    "    )\n",
    ")\n",
    "\n",
    "grouped = (\n",
    "    df.groupby([\"country\", \"manufacturer_name\", \"year\"])\n",
    "    .agg(\n",
    "        mean_fuel_consumption=(\"fuel_consumption\", \"mean\"),\n",
    "        mean_electric_range=(\"electric_range_km\", \"mean\"),\n",
    "        vehicle_count=(\"vehicle_id\", \"count\"),\n",
    "    )\n",
    "    .reset_index()\n",
    "    .sort_values(\"mean_fuel_consumption\", ascending=False)\n",
    "    .loc[lambda df: df[\"year\"].isin([2022, 2023])]\n",
    ")"
   ]
  },
  {
   "cell_type": "code",
   "execution_count": null,
   "id": "37aa7f73",
   "metadata": {},
   "outputs": [],
   "source": [
    "grouped"
   ]
  },
  {
   "cell_type": "code",
   "execution_count": null,
   "id": "9c463194",
   "metadata": {},
   "outputs": [],
   "source": [
    "df = df[df[\"country\"].isin([\"FR\", \"ES\", \"IT\"])]\n",
    "df = df.drop([\"vehicle_family_number\"], axis=1)"
   ]
  },
  {
   "cell_type": "code",
   "execution_count": null,
   "id": "e7c51afe",
   "metadata": {},
   "outputs": [],
   "source": [
    "pd.read_parquet(\n",
    "    \"Pathologies-effectif de patients par pathologie, sexe, classe d'âge et territoire.parquet\"\n",
    ")"
   ]
  },
  {
   "cell_type": "code",
   "execution_count": null,
   "id": "d5c2f4f1",
   "metadata": {},
   "outputs": [],
   "source": [
    "first_names = pd.read_csv(\n",
    "    \"DS_PRENOM_2024_data.csv\",\n",
    "    sep=\";\",\n",
    ")"
   ]
  },
  {
   "cell_type": "code",
   "execution_count": null,
   "id": "183dbe89",
   "metadata": {},
   "outputs": [],
   "source": [
    "pd.read_xml(\"https://www.hatvp.fr/livraison/merge/declarations.xml\", parser=\"etree\")"
   ]
  },
  {
   "cell_type": "code",
   "execution_count": null,
   "id": "f4c01073",
   "metadata": {},
   "outputs": [],
   "source": []
  }
 ],
 "metadata": {
  "kernelspec": {
   "display_name": ".venv",
   "language": "python",
   "name": "python3"
  },
  "language_info": {
   "codemirror_mode": {
    "name": "ipython",
    "version": 3
   },
   "file_extension": ".py",
   "mimetype": "text/x-python",
   "name": "python",
   "nbconvert_exporter": "python",
   "pygments_lexer": "ipython3",
   "version": "3.11.12"
  }
 },
 "nbformat": 4,
 "nbformat_minor": 5
}
