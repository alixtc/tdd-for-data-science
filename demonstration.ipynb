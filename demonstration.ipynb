{
 "cells": [
  {
   "cell_type": "code",
   "execution_count": 1,
   "id": "1f95450b",
   "metadata": {},
   "outputs": [],
   "source": [
    "%load_ext autoreload\n",
    "%autoreload 2"
   ]
  },
  {
   "cell_type": "code",
   "execution_count": 2,
   "id": "bb73c1ba",
   "metadata": {},
   "outputs": [],
   "source": [
    "from pynput.keyboard import Controller, Key\n",
    "\n",
    "keyboard = Controller()\n",
    "\n",
    "def run_success_keybinding(keyboard: Controller):\n",
    "    keyboard.press(Key.cmd)\n",
    "    keyboard.press(Key.shift)\n",
    "    keyboard.press(Key.alt)\n",
    "    keyboard.press('g')\n",
    "\n",
    "    keyboard.release(Key.cmd)\n",
    "    keyboard.release(Key.shift)\n",
    "    keyboard.release(Key.alt)\n",
    "    keyboard.release(\"g\")\n",
    "\n",
    "\n",
    "def run_failed_keybinding(keyboard: Controller):\n",
    "    keyboard.press(Key.cmd)\n",
    "    keyboard.press(Key.shift)\n",
    "    keyboard.press(Key.alt)\n",
    "    keyboard.press(\"b\")\n",
    "\n",
    "    keyboard.release(Key.cmd)\n",
    "    keyboard.release(Key.shift)\n",
    "    keyboard.release(Key.alt)\n",
    "    keyboard.release(\"b\")\n",
    "\n",
    "\n",
    "run_success_keybinding(keyboard)\n",
    "run_failed_keybinding(keyboard)"
   ]
  },
  {
   "cell_type": "code",
   "execution_count": 8,
   "id": "a7915c09",
   "metadata": {},
   "outputs": [],
   "source": [
    "run_failed_keybinding(keyboard)"
   ]
  },
  {
   "cell_type": "code",
   "execution_count": 3,
   "id": "5a48665c",
   "metadata": {},
   "outputs": [
    {
     "ename": "NameError",
     "evalue": "name 'Javascript' is not defined",
     "output_type": "error",
     "traceback": [
      "\u001b[31m---------------------------------------------------------------------------\u001b[39m",
      "\u001b[31mNameError\u001b[39m                                 Traceback (most recent call last)",
      "\u001b[36mCell\u001b[39m\u001b[36m \u001b[39m\u001b[32mIn[3]\u001b[39m\u001b[32m, line 1\u001b[39m\n\u001b[32m----> \u001b[39m\u001b[32m1\u001b[39m \u001b[43mJavascript\u001b[49m(\n\u001b[32m      2\u001b[39m \u001b[38;5;250m    \u001b[39m\u001b[33;03m\"\"\"\u001b[39;00m\n\u001b[32m      3\u001b[39m \u001b[33;03mconst vscode = require('vscode');\u001b[39;00m\n\u001b[32m      4\u001b[39m \u001b[33;03mconsolte.log(\"Test direct from Jupyter Notebook!\");\u001b[39;00m\n\u001b[32m      5\u001b[39m \u001b[33;03mvscode.window.showWarningMessage(\"Test direct from Jupyter Notebook!\");\u001b[39;00m\n\u001b[32m      6\u001b[39m \n\u001b[32m      7\u001b[39m \u001b[33;03m}\u001b[39;00m\n\u001b[32m      8\u001b[39m \u001b[33;03m\"\"\"\u001b[39;00m\n\u001b[32m      9\u001b[39m )\n",
      "\u001b[31mNameError\u001b[39m: name 'Javascript' is not defined"
     ]
    }
   ],
   "source": [
    "Javascript(\n",
    "    \"\"\"\n",
    "const vscode = require('vscode');\n",
    "consolte.log(\"Test direct from Jupyter Notebook!\");\n",
    "vscode.window.showWarningMessage(\"Test direct from Jupyter Notebook!\");\n",
    "\n",
    "}\n",
    "\"\"\"\n",
    ")"
   ]
  },
  {
   "cell_type": "code",
   "execution_count": 5,
   "id": "64c13fc6",
   "metadata": {
    "vscode": {
     "languageId": "javascript"
    }
   },
   "outputs": [
    {
     "ename": "NameError",
     "evalue": "name 'console' is not defined",
     "output_type": "error",
     "traceback": [
      "\u001b[31m---------------------------------------------------------------------------\u001b[39m",
      "\u001b[31mNameError\u001b[39m                                 Traceback (most recent call last)",
      "\u001b[36mCell\u001b[39m\u001b[36m \u001b[39m\u001b[32mIn[5]\u001b[39m\u001b[32m, line 1\u001b[39m\n\u001b[32m----> \u001b[39m\u001b[32m1\u001b[39m \u001b[43mconsole\u001b[49m.log(\u001b[33m\"\u001b[39m\u001b[33mTest direct from Jupyter Notebook!\u001b[39m\u001b[33m\"\u001b[39m);\n",
      "\u001b[31mNameError\u001b[39m: name 'console' is not defined"
     ]
    }
   ],
   "source": [
    "console.log(\"Test direct from Jupyter Notebook!\");"
   ]
  },
  {
   "cell_type": "code",
   "execution_count": null,
   "id": "fa4d7ff6",
   "metadata": {
    "vscode": {
     "languageId": "javascript"
    }
   },
   "outputs": [],
   "source": []
  }
 ],
 "metadata": {
  "kernelspec": {
   "display_name": ".venv",
   "language": "python",
   "name": "python3"
  },
  "language_info": {
   "codemirror_mode": {
    "name": "ipython",
    "version": 3
   },
   "file_extension": ".py",
   "mimetype": "text/x-python",
   "name": "python",
   "nbconvert_exporter": "python",
   "pygments_lexer": "ipython3",
   "version": "3.12.10"
  }
 },
 "nbformat": 4,
 "nbformat_minor": 5
}
