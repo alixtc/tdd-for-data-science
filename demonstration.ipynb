{
 "cells": [
  {
   "cell_type": "code",
   "execution_count": 1,
   "id": "c8787b9e",
   "metadata": {},
   "outputs": [],
   "source": [
    "%load_ext autoreload\n",
    "%autoreload 2"
   ]
  },
  {
   "cell_type": "code",
   "execution_count": 2,
   "id": "57696798",
   "metadata": {},
   "outputs": [],
   "source": [
    "import pandas as pd\n",
    "import polars as pl\n",
    "from IPython.core.getipython import get_ipython\n",
    "\n",
    "from notifier import (\n",
    "    wrap_in_custom_try_except,\n",
    "\n",
    ")"
   ]
  },
  {
   "cell_type": "code",
   "execution_count": 3,
   "id": "94f51849",
   "metadata": {},
   "outputs": [],
   "source": [
    "ip = get_ipython()\n",
    "\n",
    "ip.input_transformers_post.append(wrap_in_custom_try_except)"
   ]
  },
  {
   "cell_type": "code",
   "execution_count": 4,
   "id": "7d71289e",
   "metadata": {},
   "outputs": [],
   "source": [
    "a = pd.DataFrame({\"a\": [1, 2, 3]})"
   ]
  },
  {
   "cell_type": "code",
   "execution_count": 5,
   "id": "ac9de60c",
   "metadata": {},
   "outputs": [],
   "source": [
    "raise ValueError(\"This is a test error\")"
   ]
  },
  {
   "cell_type": "code",
   "execution_count": null,
   "id": "d6b0fb11",
   "metadata": {},
   "outputs": [],
   "source": []
  },
  {
   "cell_type": "code",
   "execution_count": null,
   "id": "2aea18ef",
   "metadata": {},
   "outputs": [],
   "source": []
  },
  {
   "cell_type": "code",
   "execution_count": null,
   "id": "1902acee",
   "metadata": {},
   "outputs": [],
   "source": []
  }
 ],
 "metadata": {
  "kernelspec": {
   "display_name": ".venv",
   "language": "python",
   "name": "python3"
  },
  "language_info": {
   "codemirror_mode": {
    "name": "ipython",
    "version": 3
   },
   "file_extension": ".py",
   "mimetype": "text/x-python",
   "name": "python",
   "nbconvert_exporter": "python",
   "pygments_lexer": "ipython3",
   "version": "3.12.10"
  }
 },
 "nbformat": 4,
 "nbformat_minor": 5
}
