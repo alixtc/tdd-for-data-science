{
 "cells": [
  {
   "cell_type": "code",
   "execution_count": null,
   "id": "57696798",
   "metadata": {},
   "outputs": [],
   "source": [
    "import pandas as pd"
   ]
  },
  {
   "cell_type": "code",
   "execution_count": null,
   "id": "25d6e940",
   "metadata": {},
   "outputs": [],
   "source": [
    "import pelage as plg\n",
    "import polars as pl"
   ]
  },
  {
   "cell_type": "code",
   "execution_count": null,
   "id": "248ccaee",
   "metadata": {},
   "outputs": [],
   "source": [
    "emission_schema = {\n",
    "    \"Vehicle Identifier\": pl.Int64,\n",
    "    \"OBFCM data source\": pl.String,\n",
    "    \"OBFCM ReportingPeriod\": pl.Int64,\n",
    "    \"Total fuel consumed (lifetime) (l)\": pl.Float64,\n",
    "    \"Total distance travelled (lifetime) (km)\": pl.Float64,\n",
    "    \"Total distance travelled in charge depleting operation with engine off (lifetime) (km)\": pl.Float64,\n",
    "    \"Total distance travelled in charge depleting operation with engine running (lifetime) (km)\": pl.Float64,\n",
    "    \"Total distance travelled in driver-selectable charge increasing operation (lifetime) (km)\": pl.Float64,\n",
    "    \"Total fuel consumed in charge depleting operation (lifetime) (l)\": pl.Float64,\n",
    "    \"Total fuel consumed in driver-selectable charge increasing operation (lifetime) (l)\": pl.Float64,\n",
    "    \"Total grid energy into the battery (lifetime) (kWh)\": pl.Float64,\n",
    "    \"Country\": pl.String,\n",
    "    \"VFN\": pl.String,\n",
    "    \"Mh\": pl.String,\n",
    "    \"T\": pl.String,\n",
    "    \"Va\": pl.String,\n",
    "    \"Ve\": pl.String,\n",
    "    \"Mk\": pl.String,\n",
    "    \"Cn\": pl.String,\n",
    "    \"Cr\": pl.String,\n",
    "    \"M (kg)\": pl.Float64,\n",
    "    \"Mt\": pl.Float64,\n",
    "    \"Ewltp (g/km)\": pl.Float64,\n",
    "    \"Ft\": pl.String,\n",
    "    \"Fm\": pl.String,\n",
    "    \"Ec (cm3)\": pl.Float64,\n",
    "    \"Ep (KW)\": pl.Float64,\n",
    "    \"Z (Wh/km)\": pl.Float64,\n",
    "    \"Year\": pl.Int64,\n",
    "    \"Fuel consumption\": pl.Float64,\n",
    "    \"Electric range (km)\": pl.Float64,\n",
    "    \"Used in calculation\": pl.Int64,\n",
    "}"
   ]
  },
  {
   "cell_type": "code",
   "execution_count": null,
   "id": "c3389fa3",
   "metadata": {},
   "outputs": [],
   "source": [
    "emissions = pl.scan_csv(\n",
    "    \"eea_t_real-world-co2-emission_p_2024_v01_r00/2023_Cars_Raw.csv\",\n",
    "    schema=emission_schema,\n",
    "    null_values=[\"NULL\"],\n",
    ").rename(\n",
    "    {\n",
    "        \"Vehicle Identifier\": \"vehicle_id\",\n",
    "        \"OBFCM data source\": \"obfcm_data_source\",\n",
    "        \"OBFCM ReportingPeriod\": \"reporting_period\",\n",
    "        # \"Total fuel consumed (lifetime) (l)\": pl.Float64,\n",
    "        # \"Total distance travelled (lifetime) (km)\": pl.Float64,\n",
    "        # \"Total distance travelled in charge depleting operation with engine off (lifetime) (km)\": pl.Float64,\n",
    "        # \"Total distance travelled in charge depleting operation with engine running (lifetime) (km)\": pl.Float64,\n",
    "        # \"Total distance travelled in driver-selectable charge increasing operation (lifetime) (km)\": pl.Float64,\n",
    "        # \"Total fuel consumed in charge depleting operation (lifetime) (l)\": pl.Float64,\n",
    "        # \"Total fuel consumed in driver-selectable charge increasing operation (lifetime) (l)\": pl.Float64,\n",
    "        # \"Total grid energy into the battery (lifetime) (kWh)\": pl.Float64,\n",
    "        \"Country\": \"country\",\n",
    "        \"VFN\": \"vehicle_family_number\",\n",
    "        \"Mh\": \"manufacturer_name\",\n",
    "        \"T\": \"model_type\",\n",
    "        \"Va\": \"model_variant\",\n",
    "        \"Ve\": \"license_plate\",\n",
    "        \"Mk\": \"brand_name\",\n",
    "        \"Cn\": \"commercial_name\",\n",
    "        \"Cr\": \"registered_category\",\n",
    "        \"M (kg)\": \"mass_kd\",\n",
    "        \"Mt\": \"wltp_test_mass\",\n",
    "        \"Ewltp (g/km)\": \"ewltp_g_per_km\",\n",
    "        \"Ft\": \"fuel_type\",\n",
    "        \"Fm\": \"fuel_mode\",\n",
    "        # \"Ec (cm3)\": pl.Float64,\n",
    "        # \"Ep (KW)\": pl.Float64,\n",
    "        # \"Z (Wh/km)\": pl.Float64,\n",
    "        \"Year\": \"year\",\n",
    "        \"Fuel consumption\": \"fuel_consumption\",\n",
    "        \"Electric range (km)\": \"electric_range_km\",\n",
    "        # \"Used in calculation\": pl.Int64,\n",
    "    }\n",
    ")\n",
    "(\n",
    "    emissions.pipe(plg.accepted_values, {\"obfcm_data_source\": [\"OEM\", \"MS\"]})\n",
    "    .pipe(plg.accepted_range, {\"reporting_period\": (2021, 2023)})\n",
    "    .pipe(plg.accepted_range, {\"year\": (2021, 2023)})\n",
    "\n",
    ")"
   ]
  },
  {
   "cell_type": "code",
   "execution_count": null,
   "id": "e59f587d",
   "metadata": {},
   "outputs": [],
   "source": [
    "emissions.collect()"
   ]
  },
  {
   "cell_type": "code",
   "execution_count": null,
   "id": "c0c1b93b",
   "metadata": {},
   "outputs": [],
   "source": [
    "emissions.select(pl.col.country.unique()).collect()"
   ]
  },
  {
   "cell_type": "code",
   "execution_count": null,
   "id": "3309fcbe",
   "metadata": {},
   "outputs": [],
   "source": [
    "df = emissions.collect().to_pandas()\n",
    "df = df[~df[\"country\"].isin([\"RO\", \"LT\", \"LU\", \"LV\", \"EE\", \"CY\"])]\n",
    "df = df[df[\"electric_range_km\"] < 40]\n",
    "df.drop([\"vehicle_family_number\"], axis=1, inplace=True)\n",
    "df = df.dropna(subset=[\"fuel_consumption\"])\n",
    "df[\"manufacturer_name\"] = df[\"manufacturer_name\"].apply(lambda x: x.replace(\" \", \"-\"))\n",
    "df[\"fuel_consumption_per_100km\"] = df[\"fuel_consumption\"] * 100\n",
    "\n",
    "grouped = []\n",
    "for country in df[\"country\"].unique():\n",
    "    for manufacturer in df[\"manufacturer_name\"].unique():\n",
    "\n",
    "        for year in df[\"year\"].unique():\n",
    "            subset_df = df[\n",
    "                (df[\"year\"] == year)\n",
    "                & (df[\"manufacturer_name\"] == manufacturer)\n",
    "                & (df[\"country\"] == country)\n",
    "            ]\n",
    "            result = {\n",
    "                \"country\": country,\n",
    "                \"manufacturer_name\": manufacturer,\n",
    "                \"year\": year,\n",
    "                \"mean_fuel_consumption\": subset_df[\"fuel_consumption_per_100km\"].mean(),\n",
    "                \"mean_electric_range\": subset_df[\"electric_range_km\"].mean(),\n",
    "                \"vehicle_count\": subset_df.vehicle_id.nunique(),\n",
    "            }\n",
    "            grouped.append(result)\n",
    "\n",
    "grouped = pd.DataFrame(grouped)\n",
    "\n",
    "grouped = grouped.sort_values(\"mean_fuel_consumption\", ascending=False)\n",
    "# Filter for years 2022 and 2023 only\n",
    "grouped = grouped[grouped[\"year\"].isin([2022, 2023])]"
   ]
  },
  {
   "cell_type": "code",
   "execution_count": null,
   "id": "43b1e887",
   "metadata": {},
   "outputs": [],
   "source": [
    "grouped"
   ]
  },
  {
   "cell_type": "code",
   "execution_count": null,
   "id": "460c3094",
   "metadata": {},
   "outputs": [],
   "source": [
    "df = emissions.collect().to_pandas()\n",
    "df = df[~df[\"country\"].isin([\"RO\", \"LT\", \"LU\", \"LV\", \"EE\", \"CY\"])]\n",
    "df.drop([\"vehicle_family_number\"], axis=1, inplace=True)\n",
    "df = df.dropna(subset=[\"fuel_consumption\"])\n",
    "df = df[df[\"electric_range_km\"] < 40]\n",
    "df[\"manufacturer_name\"] = df[\"manufacturer_name\"].apply(lambda x: x.replace(\" \", \"-\"))\n",
    "df[\"fuel_consumption_per_100km\"] = df[\"fuel_consumption\"] * 100\n",
    "grouped = (\n",
    "    df.groupby([\"country\", \"manufacturer_name\", \"year\"])\n",
    "    .agg(\n",
    "        mean_fuel_consumption=(\"fuel_consumption\", \"mean\"),\n",
    "        mean_electric_range=(\"electric_range_km\", \"mean\"),\n",
    "        vehicle_count=(\"vehicle_id\", \"count\"),\n",
    "    )\n",
    "    .reset_index()\n",
    ")\n",
    "grouped = grouped.sort_values(\"mean_fuel_consumption\", ascending=False)\n",
    "\n",
    "grouped = grouped[grouped[\"year\"].isin([2022, 2023])]"
   ]
  },
  {
   "cell_type": "code",
   "execution_count": null,
   "id": "f9332ca9",
   "metadata": {},
   "outputs": [],
   "source": [
    "df = emissions.collect().to_pandas()\n",
    "df = (\n",
    "    df[~df[\"country\"].isin([\"RO\", \"LT\", \"LU\", \"LV\", \"EE\", \"CY\"])]\n",
    "    .drop([\"vehicle_family_number\"], axis=1)\n",
    "    .dropna(subset=[\"fuel_consumption\"])\n",
    "    .loc[lambda df: df[\"electric_range_km\"] < 40]\n",
    "    .assign(\n",
    "        manufacturer_name=lambda df: df[\"manufacturer_name\"].str.replace(\" \", \"-\"),\n",
    "        fuel_consumption_per_100km=lambda df: df[\"fuel_consumption\"] * 100,\n",
    "    )\n",
    ")\n",
    "\n",
    "grouped = (\n",
    "    df.groupby([\"country\", \"manufacturer_name\", \"year\"])\n",
    "    .agg(\n",
    "        mean_fuel_consumption=(\"fuel_consumption\", \"mean\"),\n",
    "        mean_electric_range=(\"electric_range_km\", \"mean\"),\n",
    "        vehicle_count=(\"vehicle_id\", \"count\"),\n",
    "    )\n",
    "    .reset_index()\n",
    "    .sort_values(\"mean_fuel_consumption\", ascending=False)\n",
    "    .loc[lambda df: df[\"year\"].isin([2022, 2023])]\n",
    ")"
   ]
  },
  {
   "cell_type": "code",
   "execution_count": null,
   "id": "37aa7f73",
   "metadata": {},
   "outputs": [],
   "source": [
    "grouped"
   ]
  },
  {
   "cell_type": "code",
   "execution_count": null,
   "id": "9c463194",
   "metadata": {},
   "outputs": [],
   "source": [
    "df = df[df[\"country\"].isin([\"FR\", \"ES\", \"IT\"])]\n",
    "df = df.drop([\"vehicle_family_number\"], axis=1)"
   ]
  },
  {
   "cell_type": "code",
   "execution_count": null,
   "id": "e7c51afe",
   "metadata": {},
   "outputs": [],
   "source": [
    "pd.read_parquet(\n",
    "    \"Pathologies-effectif de patients par pathologie, sexe, classe d'âge et territoire.parquet\"\n",
    ")"
   ]
  },
  {
   "cell_type": "code",
   "execution_count": null,
   "id": "d5c2f4f1",
   "metadata": {},
   "outputs": [],
   "source": [
    "first_names = pd.read_csv(\n",
    "    \"DS_PRENOM_2024_data.csv\",\n",
    "    sep=\";\",\n",
    ")"
   ]
  },
  {
   "cell_type": "code",
   "execution_count": null,
   "id": "183dbe89",
   "metadata": {},
   "outputs": [],
   "source": [
    "pd.read_xml(\"https://www.hatvp.fr/livraison/merge/declarations.xml\", parser=\"etree\")"
   ]
  },
  {
   "cell_type": "code",
   "execution_count": null,
   "id": "f4c01073",
   "metadata": {},
   "outputs": [],
   "source": []
  }
 ],
 "metadata": {
  "kernelspec": {
   "display_name": ".venv",
   "language": "python",
   "name": "python3"
  },
  "language_info": {
   "codemirror_mode": {
    "name": "ipython",
    "version": 3
   },
   "file_extension": ".py",
   "mimetype": "text/x-python",
   "name": "python",
   "nbconvert_exporter": "python",
   "pygments_lexer": "ipython3",
   "version": "3.11.12"
  }
 },
 "nbformat": 4,
 "nbformat_minor": 5
}
